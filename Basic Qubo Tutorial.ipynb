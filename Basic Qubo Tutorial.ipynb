{
 "cells": [
  {
   "cell_type": "markdown",
   "id": "b6759e79-e5a1-4c12-947b-ac80f251e2bb",
   "metadata": {
    "tags": []
   },
   "source": [
    "# QUBO:  A Gentle Introduction to Quantum Computation, Graph Theory, and Optimization\n",
    "\n",
    "This tutorial is designed for the beginner Qiskitter to gain insight in how quantum computation, graph theory, and optimization can be used to solve a QUBO (Quantum Unconstrained Binary Optimization) problem.  We do a deep dive into a basic implementation in Qiskit of a scheduling problem outlined in a 12-minute PennyLane YouTube Tutorial. The video gives a great explanation of the problem and code.  In order to gain insight, there is a need to go into further detail on certain aspects of the solution approach and to do some analysis on the results, both which we aim to do here.  Here are the links to the PennyLane video and the corresponding code.\n",
    "\n",
    "[How to solve the QUBO problem | PennyLane Tutorial](https://www.youtube.com/watch?v=YJhv4bhNf6M)\n",
    "\n",
    "[QUBO problem PennyLane Code](https://github.com/XanaduAI/PLC-YouTube-tutorials/blob/main/how_to_solve_qubo.ipynb)\n",
    "\n",
    "## Why Focus on this basic Event Scheduling problem?\n",
    "\n",
    "1. The scheduling problem as presented is a relatable graph problem and understanding the approach to the solution is manageable without introducing intimidating concepts.\n",
    "2. The problem can be scaled or altered easily for relevant applications for an individual's needs.\n",
    "3. The purpose of the Hamilitonian is made apparent easily while avoiding discussion of quantum physics and chemistry.\n",
    "4. Basic parameterized quantum circuits are introduced without additional terminology including Ansatz circuits or Machine Learning. \n",
    "5. There is no discussion of advanced quantum optimization algorithms and techniques such as QAOA, VQE, or quantum annealing.\n",
    "6. As a result, the buildup to use optimization to find the final parameters that minimize the Hamiltonian of the graph problem occurs seemlessly. \n",
    "7. Finally, there is minimal coding required (<50 lines of code!).  This fact, combined with the other factors, saves time on debugging and learning new concepts/tools, both of which can be overwhelming for the beginner.  Consequently, one can spend more time on the understanding of the steps involved to create the solution, analysis of the results, and experimentation by designing variations to the original problem.\n",
    "\n",
    "## Objectives of this tutorial\n",
    "\n",
    "1.  Understand how to formulate a QUBO problem.\n",
    "2.  Create a Hamiltonian operator based on the obtained objective function. \n",
    "3.  Create a function to calculate the Hamiltonian using a parameterized quantum circuit. \n",
    "4.  Use classical optimization algorithms to iterate the parameters to find the global minimum.\n",
    "5.  Perform 100 runs to check likelihood that a global minimum is reached.\n",
    "6.  Sample the circuit with the final parameters to find the quasi-distributions of each run.\n",
    "7.  Observe that not all runs achieve the global minimum.\n",
    "8.  Observe the symmetry of the optimal solutions and that due to phase shifts each solution has multiple sets of optimal parameters.\n",
    "9.  Observe the superposition in runs that achieve a local minimum.\n",
    "10.  Explore one method to improve the likelihood of achieving the global minimum.\n",
    "11.  Inspire confidence to approach the next layer of concepts in quantum computing, graph theory, and optimization.\n",
    "\n",
    "## Terminology mentioned\n",
    "\n",
    "- Objective Function\n",
    "- Hamiltonian\n",
    "- Expected Value of an Operator\n",
    "- Computational Basis\n",
    "- Rotation Gates and Bloch Sphere\n",
    "- Gradient Descent Optimization\n",
    "- Nodes and Edges\n",
    "- Estimator() and Sampler() Qiskit objects\n",
    "\n",
    "## Possible Prerequisites\n",
    "\n",
    "- The assumption during this tutorial is that the PennyLane video was watched.  We refer to the video and add some additional observations and clarifications throughout the notebook.\n",
    "- Knowledge on rotational gates effects on the quantum state of a qubit and the role of the parameter angle are probably the main concepts to understand. Playing around with a Bloch Sphere tool can get one up to speed quickly.\n",
    "- If one wants to understand how the Hamiltonian objective function is coded then an understanding of tensor products would be helpful.\n",
    "- General understanding of the role of the objective function and the basics of steepest descent optimization algorithms would be helpful if one wants to experiment with a few of them. "
   ]
  },
  {
   "cell_type": "code",
   "execution_count": null,
   "id": "efa99ef0-4da5-4db5-a870-5798db0bf56a",
   "metadata": {
    "tags": []
   },
   "outputs": [],
   "source": [
    "# Importing standard Qiskit libraries\n",
    "from qiskit import QuantumCircuit, transpile\n",
    "from qiskit.tools.jupyter import *\n",
    "from qiskit.visualization import *\n",
    "from ibm_quantum_widgets import *\n",
    "from qiskit_aer import AerSimulator\n",
    "\n",
    "# Added these libraries\n",
    "import numpy as np\n",
    "from qiskit.primitives import Estimator, Sampler\n",
    "from qiskit.quantum_info import Statevector\n",
    "from qiskit.algorithms.optimizers import GradientDescent, GradientDescentState, SPSA, AQGD\n",
    "import pandas as pd\n",
    "import matplotlib.pyplot as plt\n",
    "from qiskit.opflow import I, X, Y, Z  # This library may be going away so need to add the latest library\n",
    "\n",
    "np.set_printoptions(suppress=True) \n",
    "\n",
    "# Use this to try Runtime\n",
    "# qiskit-ibmq-provider has been deprecated.\n",
    "# Please see the Migration Guides in https://ibm.biz/provider_migration_guide for more detail.\n",
    "#from qiskit_ibm_runtime import QiskitRuntimeService, Sampler, Estimator, Session, Options\n",
    "\n",
    "# Loading your IBM Quantum account(s)\n",
    "#service = QiskitRuntimeService(channel=\"ibm_quantum\")\n",
    "\n",
    "# Invoke a primitive inside a session. For more details see https://qiskit.org/documentation/partners/qiskit_ibm_runtime/tutorials.html\n",
    "# with Session(backend=service.backend(\"ibmq_qasm_simulator\")):\n",
    "#     result = Sampler().run(circuits).result()"
   ]
  },
  {
   "cell_type": "markdown",
   "id": "f5209ba2-ed4c-42f4-8c92-bf7a1d20908c",
   "metadata": {
    "tags": []
   },
   "source": [
    "# Problem Formulation\n",
    "\n",
    "Using graph theory terminology, the formulation of the event scheduling problem as stated in the PennyLane video describes the events as the nodes while the edges connect the two nodes (events) an attendee wants to see.  This problem and its solution can be adapted to solve a wider class of graph problems including bipartite detection and stable matching that have significant practical applications.  The best possible outcome for an optimal solution simplfies down to finding two independent sets nodes (events) such that every node is in one of the two sets but no two nodes in a set share an edge because any shared edge would create a conflict for the associated attendee.  If such a pair of independent sets exists, then every person will be able to attend their preferred events in two days. If no such independent set pair exists, then the optimal solution will have at least one person not attending an event on both days.\n",
    "\n",
    "## Five Coding Steps of the Solution\n",
    "\n",
    "1. Create the Hamitonian objective function to minimize.\n",
    "2. Create the parameterized circuit that uses Qiskit's Estimator() object to calculate the expected value of the Hamilitonian for a given input of rotation angles parameters, one for each qubit (event).\n",
    "3. Run a Qiskit-provided optimizer on the parameterized circuit that varies the parameters to achieve a lower expected value of the Hamiltonian at each iteration.\n",
    "4. For the final set of parameters obtained in the previous step, call Qiskit's Sampler() object to perform 1000 trials and measure the value of the Hamiltonian for each trial.  The result will be a quasi-probability distribution for the value of the Hamiltonian for the given set of parameters.\n",
    "5. Analyze various statistics on the quasi-distribution.\n",
    "\n",
    "In the code presented here, steps 3, 4, and 5 are run for 100 random initial parameter settings to be able to do further analysis as detailed below.  For clarification, 'iteration' refers to one step during an optimization routine, 'trial' refers to one sample taken from the circuit with a fixed set of parameters, and 'run' refers to one optimization routine that returns a global or local expected value for the Hamiltonian and the final set of parameters associated with that outcome.  'Parameters' refer to the vector of rotation angles applied to the five RY gates."
   ]
  },
  {
   "cell_type": "markdown",
   "id": "5d6ffa35-dcfe-4933-8bd8-9ddb3cf65498",
   "metadata": {
    "tags": []
   },
   "source": [
    "## Creation of the Hamiltonian and the Parameterized Quantum Circuit\n",
    "\n",
    "The term Hamiltonian can be daunting for someone with no quantum mechanics or chemistry background.  One would like to go down the path of learning the Schrodinger's Equation.  While the equation is a fascinating result, to the beginner, the process can force them into a rabbit hole that quickly becomes overwhelming.  For the purposes of this problem, the Hamiltonian is simply a function that measures the sum of the events all attendees can go to over the two days for a given event schedule.  Consequently, the goal is to optimize that function.  That's all that is needed to understand to proceed.\n",
    "\n",
    "The PennyLane video discusses the steps to create the Hamiltonian but does not go into detail on some of these steps.  Lecture 5.2 from the 2021 IBM Quantum Summer School gives a derivation of the Hamiltonian from a generic quadratic objective function. Understanding the mathematics will be helpful if one wants to alter the Hamiltonian to include additional variables, incorporate constraints, or generalize to other scheduling or matching graph problems.  The derivation starts at the 10:49 mark of the video below and runs for about 8 minutes:\n",
    "\n",
    "[Lecture 5.2 - Introduction to the Quantum Approximate Optimization Algorithm and Applications](https://youtu.be/YpLzSQPrgSc)\n",
    "\n",
    "The change of variables from x's to z's exploits the eigenvalues of the Pauli matrices (-1 and 1) in order to create the Hamiltonian function.  Z gates are required in the Hamiltonian because the computational basis will be used to calculate the expected value of the Hamiltonian.  To be clear, the qubits represent the events, not the attendees and to implement the circuit in Qiskit, the Hamiltonian implemented here differs in order from the one presented in the PennyLane video so that the order of the Z Gates lead to qubit 0 corresponding to event 1 and qubit 4 corresponding to event 5.   \n",
    "\n",
    "When programming the circuit, the video does not give an explanation about why RY gates are used over RZ or RX gates.  In fact, RX gates could be used as an alternative because they enable a qubit to move between 0 and 1 (think of rotations in the Bloch Sphere).  Try it. RZ gates, on the other hand, only change the phase so using strictly RZ gates would not allow for sufficient exploration of the state space during the optimization step.\n",
    "\n",
    "## Test of the Expectation of the Hamiltonian and the Explanation of the Results\n",
    "\n",
    "In the PennyLane video, the initial test example sets the parameters to zero.  As a result, all the RY gates are performing rotations of zero degrees.  Since the initial state has all qubits in the zero state, the final state will have all qubits in the the zero state as effectively no rotations were performed.  As a result, all events will be held on Saturday and each person can only attend one event so the total number of events attended is 4 which is equivalent to an expectation value of -4 for the Hamiltonian.\n",
    "\n",
    "Note that the minimum possible value of the Hamiltonian is -8 and occurs only if there is a way that each of the 4 attendees can attend their 2 events."
   ]
  },
  {
   "cell_type": "code",
   "execution_count": null,
   "id": "3a94f0a9-a4df-4582-a394-6f08fdc03179",
   "metadata": {
    "tags": []
   },
   "outputs": [],
   "source": [
    "# Coding Step 1\n",
    "\n",
    "# From PennyLane:  H = - 6 * (I^I^I^I^I) + 0.5 * (Z^I^I^Z^I) + 0.5 * (I^Z^Z^I^I) + 0.5 * (I^I^I^Z^Z) + 0.5 * (I^I^Z^Z^I)\n",
    "# Reversed the qubits for Qiskit\n",
    "# Event 1 corresponds to qubit 0 and Event 5 corresponds to qubit 4\n",
    "# Note that the qiskit.opflow library may be going away so need to add the latest library\n",
    "\n",
    "H = - 6 * (I^I^I^I^I) + 0.5 * (I^Z^I^I^Z) + 0.5 * (I^I^Z^Z^I) + 0.5 * (Z^Z^I^I^I) + 0.5 * (I^Z^Z^I^I)   # Increase the coefficient on the last term to reduce local minimum runs\n",
    "print(H)\n",
    "type(H)"
   ]
  },
  {
   "cell_type": "code",
   "execution_count": null,
   "id": "79d6c694-220c-48f7-91b3-5638807e1616",
   "metadata": {
    "tags": []
   },
   "outputs": [],
   "source": [
    "# Coding Step 2\n",
    "\n",
    "# qubo_circuit returns the expected value of the Hamiltonian and is the function that the optimizer will call\n",
    "\n",
    "# After creating the quantum circuit, we perform an initial test assuming no rotation angles so each qubit\n",
    "# will be unchanged after applying the Ry gates.  So the output qubits will be all zero (since the initial\n",
    "# state is all zero) so all events will be held on Saturday and each attendee only goes to one event which\n",
    "# is confirmed with an expected value of -4 for the Hamiltonian.  Remember that we are minimizing the\n",
    "# objective function so the a result of -4 corresponds to a total of 4 events being attended\n",
    "\n",
    "params = [0,0,0,0,0] #rotation angles for the initial test\n",
    "\n",
    "estimator = Estimator()\n",
    "\n",
    "def qubo_circuit(params):\n",
    "    qubo_c = QuantumCircuit(5)\n",
    "    for i in range(5):\n",
    "        qubo_c.ry(params[i], i)\n",
    "    return estimator.run(qubo_c, H).result().values[0]\n",
    "\n",
    "expectation_value = qubo_circuit(params)\n",
    "\n",
    "print(\"expectation: \", expectation_value)\n"
   ]
  },
  {
   "cell_type": "markdown",
   "id": "7fe1a13f-e21e-4817-8928-1d8f2c367c8f",
   "metadata": {},
   "source": [
    "# Optimization\n",
    "\n",
    "While a QUBO is a quadratic optimization function, we are not guaranteed to obtain the global minimum from gradient methods because the variables are not continuous but are, in fact, discrete (binary).\n",
    "\n",
    "The qubo_circuit function returns the expected value of the Hamiltonian for a given set of parameters.  In performing the optimization, a gradient method uses finite difference calculations to determine the next direction of exploration until the maximum number of iterations is reached or a tolerance threshold is achieved.\n",
    "\n",
    "We perform 100 runs, each starting with a set of random initial parameters to determine what percentage of runs converge to the global minimum.  The vanilla gradient descent algorithm converges very slowly but the SPSA algorithm provides convergence within a reasonable time frame.  We store the final parameters and expectation values of the Hamiltonian for each run to perform further analysis.  \n"
   ]
  },
  {
   "cell_type": "code",
   "execution_count": null,
   "id": "c885006e-ae26-4be5-ba52-69a67630452e",
   "metadata": {
    "tags": []
   },
   "outputs": [],
   "source": [
    "# Coding Step 3\n",
    "\n",
    "# For each run, we output the final parameters, the value of the objective function for those parameters,\n",
    "# and the number calls to qubo_circuit\n",
    "\n",
    "fp = [] # final parameters for each iteration\n",
    "exp_val = [] # expected value for each iteration\n",
    "#np.random.seed(0)  # Uncomment if you want to run the same seed (Only useful when using deterministic optimization algorithms)\n",
    "num = 100\n",
    "for i in range (num):\n",
    "    params = 2*np.pi*np.random.rand(5) - np.pi #initial random rotation angles between -pi and pi to create more balance between mirror states\n",
    "    print(\"Run: \", i)\n",
    "\n",
    "    # Gradient Descent converges very slowly.  Need to increase the step size.\n",
    "    #optimizer = GradientDescent(maxiter=800)\n",
    "    #result = optimizer.minimize(fun=qubo_circuit, x0=params)\n",
    "\n",
    "    # SPSA is fast\n",
    "    optimizer = SPSA(maxiter=500)\n",
    "    result = optimizer.minimize(fun=qubo_circuit,x0=params)\n",
    "\n",
    "    # I haven't been able to get AQGD to work\n",
    "    #optimizer = AQGD(maxiter=200, eta=2.0)\n",
    "    #result = optimizer.minimize(fun=qubo_circuit,x0=params)\n",
    "\n",
    "    #print(result)\n",
    "    print(f\"Found minimum {np.round(result.x, 4)} at a value of {np.round(result.fun, 4)} using {result.nfev} evaluations.\")\n",
    "    params_f = np.ndarray.round(result.x,4)\n",
    "    fp.append(params_f)\n",
    "    exp_val.append(result.fun)"
   ]
  },
  {
   "cell_type": "markdown",
   "id": "d68be9a9-9e46-48ab-a9ab-d46c0363b81f",
   "metadata": {},
   "source": [
    "# Quasi-distributions\n",
    "\n",
    "Notice from the above output that when a value near -8 is achieved that either events 2 and 4 under go a rotation approaching + or - pi or events 1, 3, and 5 under go a rotation approaching + or - pi.  This observation makes sense as such an Ry gate rotation flips a qubit from the 0 state to the 1 state.  Also, note that a parameter value of + or - 6.28 approximates 2 times pi which will have a rotation of zero.  Further analysis is discussed at the end.\n",
    "\n",
    "We use Qiskit's Sampler to perform 1000 measurements on each of the 100 runs to find the quasi distributions of each run.  The output is python dictionary with the keys being the decimal representation of classical bit streams, and values being the number of observations.  Note that the decimal representations of the classical bit streams will range between 0 and 31 to represent which of the five events take place on Sunday (bit value 1) or Saturday (bit value 0).  For example, a bit stream value for 10 is 01010 which occurs when events 2 and 4 occur on Sunday and events 1, 3, and 5 occcur on Saturday."
   ]
  },
  {
   "cell_type": "code",
   "execution_count": null,
   "id": "f8338a78-1fef-433f-b345-47cd7608c270",
   "metadata": {},
   "outputs": [],
   "source": [
    "# Coding Step 4\n",
    "\n",
    "# We recreate the parameterized circuit to include measurements of the five qubits to enable sampling\n",
    "# to create the quasi-distributions for each run\n",
    "\n",
    "sampler = Sampler()\n",
    "\n",
    "def qubo_circuit_sample(params):\n",
    "    qubo_c = QuantumCircuit(5,5)\n",
    "    for i in range(5):\n",
    "        qubo_c.ry(params[i], i)\n",
    "        qubo_c.measure([i],[i])\n",
    "    qubo_c.draw('mpl')\n",
    "    job = sampler.run(qubo_c, shots=1000)\n",
    "    return job.result()\n",
    "\n",
    "sample_val=[]\n",
    "for i in range(num):\n",
    "    sample_val.append(qubo_circuit_sample(fp[i]))\n",
    "    if i%10 == 9:\n",
    "        print(\"Run:  \", i)"
   ]
  },
  {
   "cell_type": "code",
   "execution_count": null,
   "id": "a4c861dc-63c3-4710-adf7-8247453bf18e",
   "metadata": {},
   "outputs": [],
   "source": [
    "# Coding Step 5\n",
    "\n",
    "# We do very simple analysis here\n",
    "# First, we output all the runs that do not reach the global maximum\n",
    "# Second, we plot a histogram of all the runs to see what percent reach the global minimum\n",
    "\n",
    "exp_val_short=[]\n",
    "for i in range(num):\n",
    "    if (exp_val[i] > -7.5):  # currently prints out runs stuck in a local minimum.  Change to < to get the global minimum runs\n",
    "        print(\"Run:  \", i,\"   Exp Val:  \", np.round(exp_val[i],2), \"      Quasi Dist:  \", sample_val[i].quasi_dists)\n",
    "    exp_val_short.append(np.round(exp_val[i],2))\n",
    "\n",
    "plt.hist(exp_val_short)"
   ]
  },
  {
   "cell_type": "markdown",
   "id": "bfc5ed64-6b4b-443f-a7d3-c01a839f1ad0",
   "metadata": {
    "tags": []
   },
   "source": [
    "# Analysis\n",
    "\n",
    "Recall that attendee 1 prefers events 1 and 4, attendee 2 prefers events 2 and 3, attendee 3 prefers events 3 and 4, and attendee 4 prefers events 4 and 5.\n",
    "\n",
    "See the table of 1) sample decimal values of the classical bit streams with a range of 0 - 31 corresponding to the 5 bits associated with the 5 events, 2) the associated Hamiltonian value, and 3) the events to be held on Sunday for that decimal value.\n",
    "\n",
    "| Decimal Value of Bit Stream |   Hamiltonian Value (-) |  Events on Sunday |\n",
    "| --- | ---- | ---- |\n",
    "| 5 (00101) |              7 |                3, 1 |\n",
    "| 8 (01000) |             7  |                4 |\n",
    "| 10 (01010) |             8 |                4, 2 |\n",
    "| 11 (01011) |             7 |                4, 2, 1 |\n",
    "| 12 (01100) |             7 |                4, 3 |\n",
    "| 14 (01110) |             6 |                4, 3, 2 |\n",
    "| 19 (10011) |             7 |                5, 2, 1  |\n",
    "| 20 (10100) |             7 |                5, 3 |\n",
    "| 21 (10101) |             8 |                5, 3, 1 |\n",
    "| 23 (10111) |             7 |                5, 3, 2, 1 |\n",
    "| 26 (11011) |             7 |                5, 4, 2 |\n",
    "\n",
    "\n",
    "## Global minimum versus local minumum\n",
    "\n",
    "Since the maximum number of events that can be attended by the four attendees is also 8, we know that we have achieved a global minimum if an expected value of Hamiltonian of -8 is obtained.  In the 100 runs, this global minimum is reached on average 80% of the time but that percentage varies widely (see table below).  This expectation value is reached when events 2 and 4 occur together on Sunday and events 1, 3, and 5 occur on Saturday.  This occurence corresponds to a bit stream value of 10 (01010).\n",
    "\n",
    "In order to study the runs that do not attain the global minimums in more detail, the current output only prints the quasi distributions of runs with an expected value > -7.5 which one can modify as desired.  The histogram does include all 100 runs.\n",
    "\n",
    "## Symmetry\n",
    "\n",
    "Note that the mirror solution of having events 1, 3, and 5 occur on Sunday with a bit stream value of 21 (10101) also attains an expected value of -8.  The mirror of each classical bit stream output is its difference from 31.  For example, an output of 10 corresponds to events 2 and 4 being held on Sunday and its mirror is 31 - 10 = 21 which corresponded to events 1, 3, and 5 being held on Sunday.  The two solutions are equivalent to the problem as formulated.  The problem always has two solutions because the mirror one could just flip the events on Saturday and Sunday to obtain the same expected value of the Hamiltonian.\n",
    "\n",
    "## Phase shifts\n",
    "\n",
    "There are multiple possible Ry gate rotation combinations (final parameter settings) that can yield the same bit stream value.  As an example, Ry gate rotations of pi and -pi will yield opposite probability amplitudes but the same measurement probabilities.  Similarly, a rotation of -2 times pi, 0, and 2 times pi will all yield a rotation of zero degrees.\n",
    "\n",
    "## Quantum phenomena or rounding error?\n",
    "\n",
    "It is interesting to observe that even when the global minimum is reached there are some runs that have some non-zero quasi probability of not attaining that minimum.  This may due to the optimization algorithm timing out at its maximum iteration count or due to rounding error in the final parameters of the rotation gates specifically because pi is an irrational number.\n",
    "\n",
    "However, for the runs that attain a local minimum value near 7, we do observe that most have a quasi distribution that is split between a decimal state of 8 (only event 4 on Sunday) and 12 (only events 3 and 4 on Sunday) with both having significant non-zero probabilities.  This suggests that in most local minimums there is superposition between at least two event states at these local minimums.\n",
    "\n",
    "The observation that the quasi probabilities between states 8 and 12 appear to vary significantly between the local minimum runs requires further thought.  State 12 generally has a higher quasi probability than state 8 which may make sense as there are probably more descent paths leading to events 3 and 4 happening on Sunday than only event 4 happening on Sunday.\n",
    "\n",
    "Initially, the initial parameters were random numbers from (0, 1).  It was observed that the mirror of the (8, 12) superposition which would be a superposition of 19 and 23 was occurring much less frequently which warranted further investigation.  To be distributed across the entire state space, the initial parameter range was modified to (-pi, pi) which appeared to fix the the frequency imbalance between mirror superpostion states.  To add further randomness, one could also randomize the initial starting state for each run.\n",
    "    \n",
    "# Modification of the Hamiltonian to Obtain more Global Minimum Runs\n",
    "\n",
    "Let's think about the original problem to gain some insight to see how we can modify the Hamiltonian to achieve better results.  Looking at the objective function before the variable transformation from x's to z's, notice that event 3 and event 4 are in the highest demand by the attendees.  So we would probably want to place these events on separate days.  Since there is one attendee that wants to go to both events, we can simply increase the coefficient of this term in the Hamiltonian to reduce the chances that events 3 and 4 occur on the same day.   We are effectively adding a penalty to the objective function to account for the added constraint.  This technique is similar to the use of Lagrangian coefficients in a traditional constrained optimization problem.  The table below shows that we do get our desired outcome as we increase the coefficient. \n",
    "\n",
    "| Coefficent | % of runs at local minimums (approx) |\n",
    "| ------ | ------ |\n",
    "| 0.5 |      wide range 10-30 |\n",
    "| 0.6 |      10 |\n",
    "| 0.7 |      5  |\n",
    "| 0.8 |      1  |\n",
    "\n",
    "# Future areas of exploration\n",
    "\n",
    "- Use other Qiskit optimizers with the quantum circuit to improve the likelihood of attaining the global minimum or balancing out outcomes for local minimum runs.  Perhaps experimenting with the number of iterations or larger step sizes will help.\n",
    "- Occasionally, a run gets finds a minimum reasonably greater than -8 and reasonably less than -7.  Investigate how this occurs and what it may mean.\n",
    "- Gain further insight by creating variations to the original problem such as 1) introducing more attendees or events, or 2) adding constraints to certain events or attendees and adjusting the Hamiltonian appropriately.\n",
    "- Use other quantum algorithms to improve the likelihood of finding the global minimum.  Other methods could include quantum annealing or QAOA.  While it is difficult to perform quantum annealing within Qiskit, we can perform a QAOA implementation in hopes of improving the likelihood of achieving the global minimum.\n",
    "- Implement with RunTime and on an IBM Quantum Computer to understand the issues that arise from a noisy channel.  Apply error mitigation."
   ]
  },
  {
   "cell_type": "code",
   "execution_count": null,
   "id": "3e630685-a2c8-4f5c-b769-38960c9b9c6a",
   "metadata": {},
   "outputs": [],
   "source": []
  }
 ],
 "metadata": {
  "kernelspec": {
   "display_name": "Python 3 (ipykernel)",
   "language": "python",
   "name": "python3"
  },
  "language_info": {
   "codemirror_mode": {
    "name": "ipython",
    "version": 3
   },
   "file_extension": ".py",
   "mimetype": "text/x-python",
   "name": "python",
   "nbconvert_exporter": "python",
   "pygments_lexer": "ipython3",
   "version": "3.10.8"
  },
  "widgets": {
   "application/vnd.jupyter.widget-state+json": {
    "state": {
     "030bafa9fb1e42d78406dbee1c344abb": {
      "model_module": "@jupyter-widgets/controls",
      "model_module_version": "2.0.0",
      "model_name": "HTMLModel",
      "state": {
       "layout": "IPY_MODEL_b4d002a4a5274c7c9b4d665e71603ccc",
       "style": "IPY_MODEL_f30deb81ecf1408c8ed9d3ea5fdf0784",
       "value": "<h5>Status</h5>"
      }
     },
     "04efa4f2231046a78a762407bad25455": {
      "model_module": "@jupyter-widgets/controls",
      "model_module_version": "2.0.0",
      "model_name": "HTMLStyleModel",
      "state": {
       "description_width": "",
       "font_size": null,
       "text_color": null
      }
     },
     "05bbdb05a9b54b43b926ddf99aa5dbab": {
      "model_module": "@jupyter-widgets/base",
      "model_module_version": "2.0.0",
      "model_name": "LayoutModel",
      "state": {}
     },
     "05da9384cef14d26ac875d0809011f6f": {
      "model_module": "@jupyter-widgets/controls",
      "model_module_version": "2.0.0",
      "model_name": "HTMLModel",
      "state": {
       "layout": "IPY_MODEL_de451bcf02ea4ffbb9b88d215f6dd1e3",
       "style": "IPY_MODEL_04efa4f2231046a78a762407bad25455",
       "value": "<h5>Backend</h5>"
      }
     },
     "42cc2356e9b74652b4006adf1107c2e3": {
      "model_module": "@jupyter-widgets/controls",
      "model_module_version": "2.0.0",
      "model_name": "ButtonModel",
      "state": {
       "button_style": "primary",
       "description": "Clear",
       "layout": "IPY_MODEL_e74b1b0485b24223ad76d907bdc4530c",
       "style": "IPY_MODEL_e38d3df6bb4b4bb8a47f10207568b156",
       "tooltip": null
      }
     },
     "47bd2b8081934673ab1bbc416f3c4d6d": {
      "model_module": "@jupyter-widgets/controls",
      "model_module_version": "2.0.0",
      "model_name": "HBoxModel",
      "state": {
       "children": [
        "IPY_MODEL_67e99fcf73424433b652486e09d671ba",
        "IPY_MODEL_05da9384cef14d26ac875d0809011f6f",
        "IPY_MODEL_030bafa9fb1e42d78406dbee1c344abb",
        "IPY_MODEL_48768486e3ec4530b4cf8b723bb43b16",
        "IPY_MODEL_59174f40ef624674bddeced121ac2179"
       ],
       "layout": "IPY_MODEL_e1afd0ba728a43219619150a92baf09f"
      }
     },
     "48768486e3ec4530b4cf8b723bb43b16": {
      "model_module": "@jupyter-widgets/controls",
      "model_module_version": "2.0.0",
      "model_name": "HTMLModel",
      "state": {
       "layout": "IPY_MODEL_93da0ce7efa3471391bbab1b6ce6c89b",
       "style": "IPY_MODEL_a26bd58051a549a6affde8baae30d8fd",
       "value": "<h5>Queue</h5>"
      }
     },
     "574e45fbc4424e1cb1331deded69e6fe": {
      "model_module": "@jupyter-widgets/controls",
      "model_module_version": "2.0.0",
      "model_name": "HTMLStyleModel",
      "state": {
       "description_width": "",
       "font_size": null,
       "text_color": null
      }
     },
     "59174f40ef624674bddeced121ac2179": {
      "model_module": "@jupyter-widgets/controls",
      "model_module_version": "2.0.0",
      "model_name": "HTMLModel",
      "state": {
       "layout": "IPY_MODEL_05bbdb05a9b54b43b926ddf99aa5dbab",
       "style": "IPY_MODEL_b2dd20bbf60c4064ac425c7ea7b86402",
       "value": "<h5>Message</h5>"
      }
     },
     "67e99fcf73424433b652486e09d671ba": {
      "model_module": "@jupyter-widgets/controls",
      "model_module_version": "2.0.0",
      "model_name": "HTMLModel",
      "state": {
       "layout": "IPY_MODEL_7f0d8b9bfe794b79adac9c382d3b836f",
       "style": "IPY_MODEL_574e45fbc4424e1cb1331deded69e6fe",
       "value": "<h5>Job ID</h5>"
      }
     },
     "77a868df03ab473090ec1aa1930f0169": {
      "model_module": "@jupyter-widgets/controls",
      "model_module_version": "2.0.0",
      "model_name": "HTMLModel",
      "state": {
       "layout": "IPY_MODEL_ef53745e10f044aaa45f681b83065876",
       "style": "IPY_MODEL_84de5fecafd24658b928489bc649c93e",
       "value": "<p style='font-family: IBM Plex Sans, Arial, Helvetica, sans-serif; font-size: 20px; font-weight: medium;'>Circuit Properties</p>"
      }
     },
     "7f0d8b9bfe794b79adac9c382d3b836f": {
      "model_module": "@jupyter-widgets/base",
      "model_module_version": "2.0.0",
      "model_name": "LayoutModel",
      "state": {
       "width": "190px"
      }
     },
     "84de5fecafd24658b928489bc649c93e": {
      "model_module": "@jupyter-widgets/controls",
      "model_module_version": "2.0.0",
      "model_name": "HTMLStyleModel",
      "state": {
       "description_width": "",
       "font_size": null,
       "text_color": null
      }
     },
     "93da0ce7efa3471391bbab1b6ce6c89b": {
      "model_module": "@jupyter-widgets/base",
      "model_module_version": "2.0.0",
      "model_name": "LayoutModel",
      "state": {
       "width": "70px"
      }
     },
     "a26bd58051a549a6affde8baae30d8fd": {
      "model_module": "@jupyter-widgets/controls",
      "model_module_version": "2.0.0",
      "model_name": "HTMLStyleModel",
      "state": {
       "description_width": "",
       "font_size": null,
       "text_color": null
      }
     },
     "b2dd20bbf60c4064ac425c7ea7b86402": {
      "model_module": "@jupyter-widgets/controls",
      "model_module_version": "2.0.0",
      "model_name": "HTMLStyleModel",
      "state": {
       "description_width": "",
       "font_size": null,
       "text_color": null
      }
     },
     "b4d002a4a5274c7c9b4d665e71603ccc": {
      "model_module": "@jupyter-widgets/base",
      "model_module_version": "2.0.0",
      "model_name": "LayoutModel",
      "state": {
       "width": "95px"
      }
     },
     "ca245cb720874de1b7a51d36450b15e1": {
      "model_module": "@jupyter-widgets/base",
      "model_module_version": "2.0.0",
      "model_name": "LayoutModel",
      "state": {
       "grid_template_areas": "\n                                       \". . . . right \"\n                                        ",
       "grid_template_columns": "20% 20% 20% 20% 20%",
       "width": "100%"
      }
     },
     "de451bcf02ea4ffbb9b88d215f6dd1e3": {
      "model_module": "@jupyter-widgets/base",
      "model_module_version": "2.0.0",
      "model_name": "LayoutModel",
      "state": {
       "width": "145px"
      }
     },
     "e1afd0ba728a43219619150a92baf09f": {
      "model_module": "@jupyter-widgets/base",
      "model_module_version": "2.0.0",
      "model_name": "LayoutModel",
      "state": {
       "margin": "0px 0px 0px 37px",
       "width": "600px"
      }
     },
     "e38d3df6bb4b4bb8a47f10207568b156": {
      "model_module": "@jupyter-widgets/controls",
      "model_module_version": "2.0.0",
      "model_name": "ButtonStyleModel",
      "state": {
       "font_family": null,
       "font_size": null,
       "font_style": null,
       "font_variant": null,
       "font_weight": null,
       "text_color": null,
       "text_decoration": null
      }
     },
     "e74b1b0485b24223ad76d907bdc4530c": {
      "model_module": "@jupyter-widgets/base",
      "model_module_version": "2.0.0",
      "model_name": "LayoutModel",
      "state": {
       "grid_area": "right",
       "padding": "0px 0px 0px 0px",
       "width": "70px"
      }
     },
     "ed78317a107f4b5791e156e3ad6d3bd2": {
      "model_module": "@jupyter-widgets/controls",
      "model_module_version": "2.0.0",
      "model_name": "GridBoxModel",
      "state": {
       "children": [
        "IPY_MODEL_42cc2356e9b74652b4006adf1107c2e3"
       ],
       "layout": "IPY_MODEL_ca245cb720874de1b7a51d36450b15e1"
      }
     },
     "ef53745e10f044aaa45f681b83065876": {
      "model_module": "@jupyter-widgets/base",
      "model_module_version": "2.0.0",
      "model_name": "LayoutModel",
      "state": {
       "margin": "0px 0px 10px 0px"
      }
     },
     "f30deb81ecf1408c8ed9d3ea5fdf0784": {
      "model_module": "@jupyter-widgets/controls",
      "model_module_version": "2.0.0",
      "model_name": "HTMLStyleModel",
      "state": {
       "description_width": "",
       "font_size": null,
       "text_color": null
      }
     }
    },
    "version_major": 2,
    "version_minor": 0
   }
  }
 },
 "nbformat": 4,
 "nbformat_minor": 5
}
