{
 "cells": [
  {
   "cell_type": "markdown",
   "id": "b6759e79-e5a1-4c12-947b-ac80f251e2bb",
   "metadata": {
    "tags": []
   },
   "source": [
    "# QUBO:  A Combination Approach of Graph Theory, Optimization, and Quantum Computing\n",
    "\n",
    "This tutorial is designed for the beginner Qiskiter to gain insight in how graph theory, optimization, and quantum computing can be used to solve a QUBO problem. We do a deep dive into a basic implementation in Qiskit of a QUBO problem detailed in a PennyLane YouTube Tutorial. The video gives a great explanation of the problem and how to create the code.  There is a need to go into more detail on certain aspects of the problem and do analysis on the results, both which we aim to do here.  Here are the links to the PennyLane video and the corresponding code.\n",
    "\n",
    "(https://www.youtube.com/watch?v=YJhv4bhNf6M)\n",
    "\n",
    "(https://github.com/XanaduAI/PLC-YouTube-tutorials/blob/main/how_to_solve_qubo.ipynb)\n",
    "\n",
    "## Objectives\n",
    "\n",
    "1.  Understand how to formulate a QUBO problem\n",
    "2.  Create a Hamiltonian operator based on the obtained objective function \n",
    "3.  Create a function to calculate the Hamiltonian using a parameterized quantum circuit \n",
    "4.  Use classical optimization algorithms to iterate the parameters to find the global minimum\n",
    "5.  Perform 100 runs to check likelihood that a global minimum is reached\n",
    "6.  Sample the circuit with the final parameters to find the quasi-distributions of each run\n",
    "7.  Observe that not all runs achieve the global minimum\n",
    "8.  Observe the symmetry of the optimal solutions and that due to phase shifts each solution has multiple optimal parameters\n",
    "9.  Observe the superposition in runs that achieve a local minimum\n",
    "9.  Explore one method to improve the likelihood of achieving the global minimum\n",
    "\n",
    "The assumption during this tutorial is that the PennyLane video was watched.  We add some additional observations and clarifications throughout the notebook.\n"
   ]
  },
  {
   "cell_type": "code",
   "execution_count": null,
   "id": "efa99ef0-4da5-4db5-a870-5798db0bf56a",
   "metadata": {
    "tags": []
   },
   "outputs": [],
   "source": [
    "# Importing standard Qiskit libraries\n",
    "from qiskit import QuantumCircuit, transpile\n",
    "from qiskit.tools.jupyter import *\n",
    "from qiskit.visualization import *\n",
    "from ibm_quantum_widgets import *\n",
    "from qiskit_aer import AerSimulator\n",
    "\n",
    "# Added these libraries\n",
    "import numpy as np\n",
    "from qiskit.primitives import Estimator, Sampler\n",
    "from qiskit.quantum_info import Statevector\n",
    "from qiskit.algorithms.optimizers import GradientDescent, GradientDescentState, SPSA, AQGD\n",
    "import pandas as pd\n",
    "import matplotlib.pyplot as plt\n",
    "from qiskit.opflow import I, X, Y, Z  # This library may be going away so need to add the latest library\n",
    "\n",
    "np.set_printoptions(suppress=True) \n",
    "\n",
    "# Use this to try Runtime\n",
    "# qiskit-ibmq-provider has been deprecated.\n",
    "# Please see the Migration Guides in https://ibm.biz/provider_migration_guide for more detail.\n",
    "#from qiskit_ibm_runtime import QiskitRuntimeService, Sampler, Estimator, Session, Options\n",
    "\n",
    "# Loading your IBM Quantum account(s)\n",
    "#service = QiskitRuntimeService(channel=\"ibm_quantum\")\n",
    "\n",
    "# Invoke a primitive inside a session. For more details see https://qiskit.org/documentation/partners/qiskit_ibm_runtime/tutorials.html\n",
    "# with Session(backend=service.backend(\"ibmq_qasm_simulator\")):\n",
    "#     result = Sampler().run(circuits).result()"
   ]
  },
  {
   "cell_type": "markdown",
   "id": "f5209ba2-ed4c-42f4-8c92-bf7a1d20908c",
   "metadata": {
    "tags": []
   },
   "source": [
    "# Problem Formulation\n",
    "\n",
    "Using graph theory terminology, the formulation of the event scheduling problem as stated in the PennyLane video can be considered as the desire to find two independent sets of events such that every event is in one of the two sets but no two events in a set share an edge.  If such a pair exists, then every person will be able to attend their preferred events in two days. If no such independent set pair exists, then the optimal solution will have at least one person not attending an event on both days.\n"
   ]
  },
  {
   "cell_type": "code",
   "execution_count": null,
   "id": "3a94f0a9-a4df-4582-a394-6f08fdc03179",
   "metadata": {
    "tags": []
   },
   "outputs": [],
   "source": [
    "# From PennyLane:  H = - 6 * (I^I^I^I^I) + 0.5 * (Z^I^I^Z^I) + 0.5 * (I^Z^Z^I^I) + 0.5 * (I^I^I^Z^Z) + 0.5 * (I^I^Z^Z^I)\n",
    "# Reversed the qubits for Qiskit\n",
    "# Event 1 corresponds to qubit 0 and Event 5 corresponds to qubit 4\n",
    "# Note that the qiskit.opflow library may be going away so need to add the latest library\n",
    "\n",
    "H = - 6 * (I^I^I^I^I) + 0.5 * (I^Z^I^I^Z) + 0.5 * (I^I^Z^Z^I) + 0.5 * (Z^Z^I^I^I) + 0.5 * (I^Z^Z^I^I)   # Edit the coefficient on the last term to reduce local minimums\n",
    "print(H)\n",
    "type(H)"
   ]
  },
  {
   "cell_type": "markdown",
   "id": "5d6ffa35-dcfe-4933-8bd8-9ddb3cf65498",
   "metadata": {
    "tags": []
   },
   "source": [
    "# Creation of the Hamiltonian and the Parameterized Quantum Circuit\n",
    "\n",
    "Lecture 5.2 from the 2021 IBM Quantum Summer School gives a detailed derivation of the Hamiltonian from a generic quadratic objective function.  The derivation starts at the 10:49 mark of the video below and runs for about 8 minutes:\n",
    "\n",
    "(https://youtu.be/YpLzSQPrgSc)\n",
    "\n",
    "The change of variables from x's to z's is to exploit the eigenvalues of the Pauli matrices (-1 and 1) in order to create a function that calculates the expected value of the Hamiltonian.  Z gates are required in the Hamiltonian because the computational basis will be used to calculate the expectation of the operator.  To be clear, the qubits represent the events, not the attendees and to implement the circuit in Qiskit, the Hamiltonian is implemented here such that the order of the Z Gates lead to q0 corresponding to event 1 and q4 corresponding to event 5.   \n",
    "\n",
    "When programming the circuit, the video does not give an explanation about why Ry gates are used over Rz or Rx gates.  In fact, Rx gates could be used as an alternative because they enable a qubit to move between 0 and 1 (think of the Bloch Sphere).  Try it. Rz gates, on the other hand, only change the phase so using strictly Rz gates would not allow for sufficient exploration of the state space.\n",
    "\n",
    "## Test of the Expectation of the Hamiltonian and the Explanation of the Results\n",
    "\n",
    "In the PennyLane video, the initial test example sets the parameters to zero.  As a result, all the Ry gates are performing rotations of zero degrees.  Since the initial state has all qubits in the zero state, the final state will have all qubits in the the zero state because effectively no rotations were performed.  As a result, all events will be held on Saturday and each person can only attend one event so the total number of events attended is 4 which is equivalent to an expectation value of -4 for the Hamiltonian.\n",
    "\n",
    "Note that the minimum possible value of the Hamiltonian is -8 and occurs only if there is a way that each of the 4 attendees can attend their 2 events."
   ]
  },
  {
   "cell_type": "code",
   "execution_count": null,
   "id": "79d6c694-220c-48f7-91b3-5638807e1616",
   "metadata": {
    "tags": []
   },
   "outputs": [],
   "source": [
    "#Initial test assuming no rotation angles so each qubit will be unchanged after applying the Ry gates\n",
    "#qubo_circuit, by returning the value of the Hamiltonian, is the function that will be optimized \n",
    "\n",
    "params = [0,0,0,0,0] #initial rotation angles\n",
    "\n",
    "estimator = Estimator()\n",
    "\n",
    "def qubo_circuit(params):\n",
    "    #print(params)\n",
    "    qubo_c = QuantumCircuit(5)\n",
    "    for i in range(5):\n",
    "        qubo_c.rx(params[i], i)\n",
    "    return estimator.run(qubo_c, H).result().values[0]\n",
    "\n",
    "expectation_value = qubo_circuit(params)\n",
    "\n",
    "print(\"expectation: \", expectation_value)\n"
   ]
  },
  {
   "cell_type": "markdown",
   "id": "7fe1a13f-e21e-4817-8928-1d8f2c367c8f",
   "metadata": {},
   "source": [
    "# Optimization\n",
    "\n",
    "While a QUBO is a quadratic optimization function, it is not guaranteed to obtain the global minimum from gradient methods because the variables are not continuous but are, in fact, discrete (binary).\n",
    "\n",
    "The qubo_circuit function returns the value of the Hamiltonian for a given set of parameters.  In performing an optimization, a gradient method uses finite difference calculations to determine the next direction of exploration until the maximum number of iterations is reached or a tolerance threshold is achieved.\n",
    "\n",
    "Perform 100 runs, each starting with a set of random parameters to determine what percentage converge to the global minimum.  The gradient descent algorithm converges very slowly but the SPSA algorithm provides convergence within a reasonable time frame.  Store the final parameters and expectation values of the Hamiltonian for each run to perform additional analysis.  \n"
   ]
  },
  {
   "cell_type": "code",
   "execution_count": null,
   "id": "c885006e-ae26-4be5-ba52-69a67630452e",
   "metadata": {
    "tags": []
   },
   "outputs": [],
   "source": [
    "fp = [] # final parameters for each iteration\n",
    "exp_val = [] # expected value for each iteration\n",
    "#np.random.seed(0)  # Uncomment if you want to run the same seed (Only useful when using deterministic optimization algorithms)\n",
    "num = 100\n",
    "for i in range (num):\n",
    "    params = 2*np.pi*np.random.rand(5) - np.pi #initial random rotation angles between -pi and pi to create more balance between mirror states\n",
    "    print(\"Run: \", i)\n",
    "\n",
    "    # Gradient Descent converges very slowly.  Need to increase the step size.\n",
    "    #optimizer = GradientDescent(maxiter=800)\n",
    "    #result = optimizer.minimize(fun=qubo_circuit, x0=params)\n",
    "\n",
    "    # SPSA is fast\n",
    "    optimizer = SPSA(maxiter=500)\n",
    "    result = optimizer.minimize(fun=qubo_circuit,x0=params)\n",
    "\n",
    "    # I haven't been able to get AQGD to work\n",
    "    #optimizer = AQGD(maxiter=200, eta=2.0)\n",
    "    #result = optimizer.minimize(fun=qubo_circuit,x0=params)\n",
    "\n",
    "    print(f\"Found minimum {np.round(result.x, 4)} at a value of {np.round(result.fun, 4)} using {result.nfev} evaluations.\")\n",
    "    params_f = np.ndarray.round(result.x,4)\n",
    "    fp.append(params_f)\n",
    "    exp_val.append(result.fun)"
   ]
  },
  {
   "cell_type": "markdown",
   "id": "d68be9a9-9e46-48ab-a9ab-d46c0363b81f",
   "metadata": {},
   "source": [
    "# Quasi-distributions\n",
    "\n",
    "Notice from the above output that when a value near -8 is achieved that either events 2 and 4 under go a rotation approaching + or - pi or events 1, 3, and 5 under go a rotation approaching + or - pi.  This observation makes sense as such an ry gate rotation flips a qubit from the 0 state to the 1 state.  Also, note that a parameter value of + or - 6.28 approximates 2 times pi which will have a rotation of zero.  We do further analysis discussed below.\n",
    "\n",
    "We use Qiskit's Sampler to perform 1000 measurements on each of the 100 runs to find the quasi distributions of each run.  The output is python dictionary the keys being the decimal representation of bit streams, and values being the realized probabilities.  Note that the decimal representations of the classical bit streams will range between 0 and 31 to represent which of the five events take place on Sunday (bit value 1) or Saturday (bit value 0).  For example, a bit stream value for 10 is 01010 which occurs when events 2 and 4 occur on Sunday and events 1, 3, and 5 occcur on Saturday."
   ]
  },
  {
   "cell_type": "code",
   "execution_count": null,
   "id": "f8338a78-1fef-433f-b345-47cd7608c270",
   "metadata": {},
   "outputs": [],
   "source": [
    "sampler = Sampler()\n",
    "\n",
    "def qubo_circuit_sample(params):\n",
    "    qubo_c = QuantumCircuit(5,5)\n",
    "    for i in range(5):\n",
    "        qubo_c.rx(params[i], i)\n",
    "        qubo_c.measure([i],[i])\n",
    "    qubo_c.draw('mpl')\n",
    "    job = sampler.run(qubo_c, shots=1000)\n",
    "    return job.result()\n",
    "\n",
    "sample_val=[]\n",
    "for i in range(num):\n",
    "    sample_val.append(qubo_circuit_sample(fp[i]))\n",
    "    if i%10 == 9:\n",
    "        print(\"Run:  \", i)"
   ]
  },
  {
   "cell_type": "code",
   "execution_count": null,
   "id": "a4c861dc-63c3-4710-adf7-8247453bf18e",
   "metadata": {},
   "outputs": [],
   "source": [
    "exp_val_short=[]\n",
    "for i in range(num):\n",
    "    if (exp_val[i] > -7.5):  # currently prints out runs stuck in a local minimum\n",
    "        print(\"Run:  \", i,\"   Exp Val:  \", np.round(exp_val[i],2), \"      Quasi Dist:  \", sample_val[i].quasi_dists)\n",
    "    exp_val_short.append(np.round(exp_val[i],2))\n",
    "\n",
    "plt.hist(exp_val_short)"
   ]
  },
  {
   "cell_type": "markdown",
   "id": "bfc5ed64-6b4b-443f-a7d3-c01a839f1ad0",
   "metadata": {
    "tags": []
   },
   "source": [
    "# Analysis\n",
    "\n",
    "Recall that attendee 1 prefers events 1 and 4, attendee 2 prefers events 2 and 3, attendee 3 prefers events 3 and 4, and attendee 4 prefers events 4 and 5.\n",
    "\n",
    "See the table of 1) sample decimal values of the classical bit streams with a range of 0 - 31 corresponding to the 5 bits associated with the 5 events, 2) the associated Hamiltonian value, and 3) the events to be held on Sunday for that decimal value.\n",
    "\n",
    "| Decimal Value of Bit Stream |   Hamiltonian Value (-) |  Events on Sunday |\n",
    "| --- | ---- | ---- |\n",
    "| 5 (00101) |              7 |                3, 1 |\n",
    "| 8 (01000) |             7  |                4 |\n",
    "| 10 (01010) |             8 |                4, 2 |\n",
    "| 11 (01011) |             7 |                4, 2, 1 |\n",
    "| 12 (01100) |             7 |                4, 3 |\n",
    "| 14 (01110) |             6 |                4, 3, 2 |\n",
    "| 19 (10011) |             7 |                5, 2, 1  |\n",
    "| 20 (10100) |             7 |                5, 3 |\n",
    "| 21 (10101) |             8 |                5, 3, 1 |\n",
    "| 23 (10111) |             7 |                5, 3, 2, 1 |\n",
    "| 26 (11011) |             7 |                5, 4, 2 |\n",
    "\n",
    "\n",
    "## Global minimum\n",
    "\n",
    "Since the maximum number of events that can be attended by the four attendees is also 8, we know that we have achieved a global minimum if expected value of Hamiltonian of -8 is obtained.  In the 100 runs, this global minimum is reached roughly 75% of the time.  This expectation value is reached when events 2 and 4 occur together on Sunday and events 1, 3, and 5 occur on Saturday.  This occurence corresponds to a bit stream value of 10 (01010).\n",
    "\n",
    "In order to study the runs that do not attain the global minimums in more detail, the current output only prints the quasi distributions of runs with an expected value > -7.5 which one can modify as desired.  The histogram does include all 100 runs.\n",
    "\n",
    "## Symmetry\n",
    "\n",
    "Note that the mirror solution of having events 1, 3, and 5 occur on Sunday with a bit stream value of 21 (10101) also attains an expected value of -8.  The mirror of each classical bit stream output is its difference from 31.  For example, an output of 10 corresponds to events 2 and 4 being held on Sunday and its mirror is 31 - 10 = 21 which corresponded to events 1, 3, and 5 being held on Sunday.  The two solutions are equivalent to the problem as formulated.The problem always has two solutions because the mirror one could just flip the events on Saturday and Sunday to obtain the same expectation value of the Hamiltonian.\n",
    "\n",
    "## Phase shifts\n",
    "\n",
    "There are multiple possible ry gate combinations (final parameter settings) that can yield the same bit stream value.  As an example, ry gate rotations of pi and -pi will yield opposite probability amplitudes but the same measurement probabilities.\n",
    "\n",
    "## Quantum phenonmena or rounding error?\n",
    "\n",
    "It is interesting to observe that even when the global minimum is reached there are some runs that have some non-zero quasi probability of not attaining that minimum.  This may due to the optimization algorithm timing out at its maximum iteration count or due to rounding error in the final parameters of the rotation gates specifically because pi is an irrational number.\n",
    "\n",
    "However, for the runs that attain a local minimum value near 7, we do observe that most have a quasi distribution that is split between a decimal state of 8 (only event 4 on Sunday) and 12 (only events 3 and 4 on Sunday) with both having significant non-zero probabilities.  This suggests that in most local minimums there is superposition between at least two two event states at these local minimums.\n",
    "\n",
    "The observation that the quasi probabilities between states 8 and 12 appear to vary significantly between the local minimum runs requires further thought.  State 12 generally has a higher quasi probability than state 8 which may make sense as there are probably more descent paths leading to events 3 and 4 happening on Sunday than only event 4 happening on Sunday.\n",
    "\n",
    "What was intially observed was that the mirror of this superposition which would be a superposition of 19 and 23 occured much less frequently which warranted further investigation.  The initial random parameters were being chosen from (0, 1) but, to be distributed across the entire state space, the range should be between (-pi, pi).  This appeared to fix the the frequency imbalance between mirror superpostion states.  To add further randomness, one could also randomize the initial starting state for each run.\n",
    "    \n",
    "# Modification of the Hamiltonian to Obtain more Global Minimum Runs\n",
    "\n",
    "Let's think about the original problem to gain some insight to see how we can modify the Hamiltonian to achieve better results.  Looking at the objective function before the variable transformation from x's to z's, notice that event 3 and event 4 are in the highest demand by the attendees.  So we would want to place these events on separate days.  Since there is one attendee that wants to go to both events, we can simply increase the coefficient of this term in the Hamiltonian to reduce the chances of events 3 and 4 occur on the same day.   We are effectively adding a penalty to the objective function to account for the added constraint.  This is same technique as using Lagrangian coefficients in a traditional constrained optimization problem.  The table below shows that we do get our desired outcome as we increase the coefficient. \n",
    "\n",
    "| Coefficent | % at local minimums (approx) |\n",
    "| ------ | ------ |\n",
    "| 0.5 |      wide range 10-30 |\n",
    "| 0.6 |      10 |\n",
    "| 0.7 |      5  |\n",
    "| 0.8 |      1  |\n",
    "\n",
    "# Future areas of exploration\n",
    "\n",
    "- Implement with RunTime to understand its benefits\n",
    "\n",
    "- Use other Qiskit optimizers with the quantum circuit to improve the likelihood of attaining the global minimum or balancing out outcomes for local minimum runs.  Perhaps experimenting with the number of iterations or larger step sizes will help.\n",
    "\n",
    "- Occasionally, a run gets finds a minimum reasonably greater than -8 and reasonably less than -7.  Investigate how this occurs and what it may mean.\n",
    "\n",
    "- Gain further insight by creating variations to the original problem such as 1) introducing more attendees or events, or 2) adding constraints to certain events or attendees and adjusting the Hamiltonian appropriately\n",
    "\n",
    "- Use other quantum algorithms to improve the likelihood of finding the global minimum.  Other methods could include quantum annealing or QAOA.  While it is difficult to perform quantum annealing within Qiskit, we can perform a QAOA implementation in hopes of improving the likelihood of achieving the global minimum.\n",
    "\n",
    "- Run the circuit on an IBM Quantum Computer to understand the issues that arise from a noisy channel"
   ]
  },
  {
   "cell_type": "code",
   "execution_count": null,
   "id": "3e630685-a2c8-4f5c-b769-38960c9b9c6a",
   "metadata": {},
   "outputs": [],
   "source": []
  }
 ],
 "metadata": {
  "kernelspec": {
   "display_name": "Python 3 (ipykernel)",
   "language": "python",
   "name": "python3"
  },
  "language_info": {
   "codemirror_mode": {
    "name": "ipython",
    "version": 3
   },
   "file_extension": ".py",
   "mimetype": "text/x-python",
   "name": "python",
   "nbconvert_exporter": "python",
   "pygments_lexer": "ipython3",
   "version": "3.10.8"
  },
  "widgets": {
   "application/vnd.jupyter.widget-state+json": {
    "state": {
     "074a676e0e8d47aabd8ea4f1ba933b7a": {
      "model_module": "@jupyter-widgets/base",
      "model_module_version": "2.0.0",
      "model_name": "LayoutModel",
      "state": {
       "width": "95px"
      }
     },
     "206cc4a01832443d88ba95e4bfdb25d7": {
      "model_module": "@jupyter-widgets/controls",
      "model_module_version": "2.0.0",
      "model_name": "GridBoxModel",
      "state": {
       "children": [
        "IPY_MODEL_647518bf68fb445b861d653a2c5306a3"
       ],
       "layout": "IPY_MODEL_c81e3a17a9c24884a08a626e6a576944"
      }
     },
     "307c1b968a8340e085dc86f68a296e8f": {
      "model_module": "@jupyter-widgets/base",
      "model_module_version": "2.0.0",
      "model_name": "LayoutModel",
      "state": {
       "width": "190px"
      }
     },
     "3387b5bfb44141929087ff0a0c2db391": {
      "model_module": "@jupyter-widgets/controls",
      "model_module_version": "2.0.0",
      "model_name": "HTMLStyleModel",
      "state": {
       "description_width": "",
       "font_size": null,
       "text_color": null
      }
     },
     "36da074297ab40c2b8a348a44f519e50": {
      "model_module": "@jupyter-widgets/controls",
      "model_module_version": "2.0.0",
      "model_name": "HTMLStyleModel",
      "state": {
       "description_width": "",
       "font_size": null,
       "text_color": null
      }
     },
     "382187884f17468c8122bcafaa0db7c7": {
      "model_module": "@jupyter-widgets/controls",
      "model_module_version": "2.0.0",
      "model_name": "HTMLStyleModel",
      "state": {
       "description_width": "",
       "font_size": null,
       "text_color": null
      }
     },
     "468ea7b533a64ef2ac516db4aa825c78": {
      "model_module": "@jupyter-widgets/base",
      "model_module_version": "2.0.0",
      "model_name": "LayoutModel",
      "state": {
       "grid_area": "right",
       "padding": "0px 0px 0px 0px",
       "width": "70px"
      }
     },
     "517d6806dffd48708b326dd0cbaf0fd9": {
      "model_module": "@jupyter-widgets/controls",
      "model_module_version": "2.0.0",
      "model_name": "ButtonStyleModel",
      "state": {
       "font_family": null,
       "font_size": null,
       "font_style": null,
       "font_variant": null,
       "font_weight": null,
       "text_color": null,
       "text_decoration": null
      }
     },
     "63ac3eabbb7e407b9f816f6e1c258d9f": {
      "model_module": "@jupyter-widgets/base",
      "model_module_version": "2.0.0",
      "model_name": "LayoutModel",
      "state": {
       "width": "145px"
      }
     },
     "647518bf68fb445b861d653a2c5306a3": {
      "model_module": "@jupyter-widgets/controls",
      "model_module_version": "2.0.0",
      "model_name": "ButtonModel",
      "state": {
       "button_style": "primary",
       "description": "Clear",
       "layout": "IPY_MODEL_468ea7b533a64ef2ac516db4aa825c78",
       "style": "IPY_MODEL_517d6806dffd48708b326dd0cbaf0fd9",
       "tooltip": null
      }
     },
     "69cfd914d22e4f10b268b3143a2cb036": {
      "model_module": "@jupyter-widgets/base",
      "model_module_version": "2.0.0",
      "model_name": "LayoutModel",
      "state": {
       "width": "70px"
      }
     },
     "7765aad4a059468cab7f9d9bce4349df": {
      "model_module": "@jupyter-widgets/controls",
      "model_module_version": "2.0.0",
      "model_name": "HTMLStyleModel",
      "state": {
       "description_width": "",
       "font_size": null,
       "text_color": null
      }
     },
     "79f1d4bd3593471cadd933e279e0e8c2": {
      "model_module": "@jupyter-widgets/base",
      "model_module_version": "2.0.0",
      "model_name": "LayoutModel",
      "state": {
       "margin": "0px 0px 0px 37px",
       "width": "600px"
      }
     },
     "7a556e5eb1cd491f9b6a4823d6805e69": {
      "model_module": "@jupyter-widgets/controls",
      "model_module_version": "2.0.0",
      "model_name": "HTMLModel",
      "state": {
       "layout": "IPY_MODEL_63ac3eabbb7e407b9f816f6e1c258d9f",
       "style": "IPY_MODEL_36da074297ab40c2b8a348a44f519e50",
       "value": "<h5>Backend</h5>"
      }
     },
     "82bf3d1f390c4c168642ee7a4033d3fd": {
      "model_module": "@jupyter-widgets/controls",
      "model_module_version": "2.0.0",
      "model_name": "HTMLStyleModel",
      "state": {
       "description_width": "",
       "font_size": null,
       "text_color": null
      }
     },
     "8d42427b3829472eb608d1aa0e421767": {
      "model_module": "@jupyter-widgets/controls",
      "model_module_version": "2.0.0",
      "model_name": "HTMLModel",
      "state": {
       "layout": "IPY_MODEL_69cfd914d22e4f10b268b3143a2cb036",
       "style": "IPY_MODEL_a2e2bd92f251494ba5cae72230fb2b68",
       "value": "<h5>Queue</h5>"
      }
     },
     "8f143498703944708ebb11013b43ffd8": {
      "model_module": "@jupyter-widgets/base",
      "model_module_version": "2.0.0",
      "model_name": "LayoutModel",
      "state": {}
     },
     "9dceebca13ed4ed29169217258e3a4c9": {
      "model_module": "@jupyter-widgets/controls",
      "model_module_version": "2.0.0",
      "model_name": "HTMLModel",
      "state": {
       "layout": "IPY_MODEL_8f143498703944708ebb11013b43ffd8",
       "style": "IPY_MODEL_7765aad4a059468cab7f9d9bce4349df",
       "value": "<h5>Message</h5>"
      }
     },
     "a2e2bd92f251494ba5cae72230fb2b68": {
      "model_module": "@jupyter-widgets/controls",
      "model_module_version": "2.0.0",
      "model_name": "HTMLStyleModel",
      "state": {
       "description_width": "",
       "font_size": null,
       "text_color": null
      }
     },
     "c81e3a17a9c24884a08a626e6a576944": {
      "model_module": "@jupyter-widgets/base",
      "model_module_version": "2.0.0",
      "model_name": "LayoutModel",
      "state": {
       "grid_template_areas": "\n                                       \". . . . right \"\n                                        ",
       "grid_template_columns": "20% 20% 20% 20% 20%",
       "width": "100%"
      }
     },
     "d3ccfbaa29c742a9bd3c8e82eda11029": {
      "model_module": "@jupyter-widgets/controls",
      "model_module_version": "2.0.0",
      "model_name": "HTMLModel",
      "state": {
       "layout": "IPY_MODEL_307c1b968a8340e085dc86f68a296e8f",
       "style": "IPY_MODEL_3387b5bfb44141929087ff0a0c2db391",
       "value": "<h5>Job ID</h5>"
      }
     },
     "d7dfb2a9afd74f09b9e0d248fe32f2f6": {
      "model_module": "@jupyter-widgets/controls",
      "model_module_version": "2.0.0",
      "model_name": "HBoxModel",
      "state": {
       "children": [
        "IPY_MODEL_d3ccfbaa29c742a9bd3c8e82eda11029",
        "IPY_MODEL_7a556e5eb1cd491f9b6a4823d6805e69",
        "IPY_MODEL_d88d066b4fc749719f05fa6ac1109a83",
        "IPY_MODEL_8d42427b3829472eb608d1aa0e421767",
        "IPY_MODEL_9dceebca13ed4ed29169217258e3a4c9"
       ],
       "layout": "IPY_MODEL_79f1d4bd3593471cadd933e279e0e8c2"
      }
     },
     "d88d066b4fc749719f05fa6ac1109a83": {
      "model_module": "@jupyter-widgets/controls",
      "model_module_version": "2.0.0",
      "model_name": "HTMLModel",
      "state": {
       "layout": "IPY_MODEL_074a676e0e8d47aabd8ea4f1ba933b7a",
       "style": "IPY_MODEL_382187884f17468c8122bcafaa0db7c7",
       "value": "<h5>Status</h5>"
      }
     },
     "e136838c0c654882b98327ac7ff53c91": {
      "model_module": "@jupyter-widgets/controls",
      "model_module_version": "2.0.0",
      "model_name": "HTMLModel",
      "state": {
       "layout": "IPY_MODEL_efe189f3dab0446092bd4d7ee1864cdc",
       "style": "IPY_MODEL_82bf3d1f390c4c168642ee7a4033d3fd",
       "value": "<p style='font-family: IBM Plex Sans, Arial, Helvetica, sans-serif; font-size: 20px; font-weight: medium;'>Circuit Properties</p>"
      }
     },
     "efe189f3dab0446092bd4d7ee1864cdc": {
      "model_module": "@jupyter-widgets/base",
      "model_module_version": "2.0.0",
      "model_name": "LayoutModel",
      "state": {
       "margin": "0px 0px 10px 0px"
      }
     }
    },
    "version_major": 2,
    "version_minor": 0
   }
  }
 },
 "nbformat": 4,
 "nbformat_minor": 5
}
