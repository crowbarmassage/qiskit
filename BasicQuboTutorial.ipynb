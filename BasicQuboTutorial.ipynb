{
 "cells": [
  {
   "cell_type": "markdown",
   "id": "b6759e79-e5a1-4c12-947b-ac80f251e2bb",
   "metadata": {
    "tags": []
   },
   "source": [
    "# QUBO:  A Gentle Introduction to Quantum Computing, Graph Theory, and Optimization\n",
    "\n",
    "This tutorial is designed for the beginner Qiskitter to gain insight in how quantum computing, graph theory, and optimization, can be used to solve a QUBO (Quantum Unconstrained Binary Optimization) problem. We do a deep dive into a basic implementation in Qiskit of a scheduling problem detailed in a PennyLane YouTube Tutorial. The video gives a great explanation of the problem and how to create the code.  In order to gain insight, there is a need to go into further detail on certain aspects of the solution approach and to do some analysis on the results, both which we aim to do here.  Here are the links to the PennyLane video and the corresponding code.\n",
    "\n",
    "(https://www.youtube.com/watch?v=YJhv4bhNf6M)\n",
    "\n",
    "(https://github.com/XanaduAI/PLC-YouTube-tutorials/blob/main/how_to_solve_qubo.ipynb)\n",
    "\n",
    "## Why Focus on this basic Event Scheduling problem?\n",
    "\n",
    "1. The scheduling problem as presented is a relatable graph problem and understanding the approach to the solution is manageable without introducing intimidating concepts.\n",
    "2. The problem can be scaled or altered easily for relevant applications for an individual's needs.\n",
    "3. The purpose of the Hamilitonian is made apparent easily while avoiding discussion of quantum physics and chemistry.\n",
    "4. Basic parameterized quantum circuits are introduced while avoiding terminology including Ansatz circuits or Machine Learning. \n",
    "5. There is no discussion of advanced quantum optimization algorithms such as QAOA, VQE, or quantum annealing.\n",
    "6. As a result, the buildup to use optimization in order to find the final parameters that minimize the Hamiltonian to solve the graph problem occurs seemlessly. \n",
    "7. Finally, there is minimal coding required (< 50 lines of code!).  Combined with the other factors, time is saved on debugging and learning new concepts, both of which can be overwhelming.  Consequently, one can spend more time on the understanding of the steps involved to create the solution, analysis of the results, and experimentation with variations.\n",
    "\n",
    "## Objectives of this tutorial\n",
    "\n",
    "1.  Understand how to formulate a QUBO problem.\n",
    "2.  Create a Hamiltonian operator based on the obtained objective function. \n",
    "3.  Create a function to calculate the Hamiltonian using a parameterized quantum circuit. \n",
    "4.  Use classical optimization algorithms to iterate the parameters to find the global minimum.\n",
    "5.  Perform 100 runs to check likelihood that a global minimum is reached.\n",
    "6.  Sample the circuit with the final parameters to find the quasi-distributions of each run.\n",
    "7.  Observe that not all runs achieve the global minimum.\n",
    "8.  Observe the symmetry of the optimal solutions and that due to phase shifts each solution has multiple optimal parameters.\n",
    "9.  Observe the superposition in runs that achieve a local minimum.\n",
    "10.  Explore one method to improve the likelihood of achieving the global minimum.\n",
    "11.  Inspire confidence to approach the next layer of concepts in quantum computing, graph theory, and optimization.\n",
    "\n",
    "## Terminology mentioned\n",
    "\n",
    "- Objective Function\n",
    "- Hamiltonian\n",
    "- Expected Value of an Operator\n",
    "- Computational Basis\n",
    "- Rotation Gates and Bloch Sphere\n",
    "- Gradient Descent Optimization\n",
    "- Nodes and Edges\n",
    "- Estimator() and Sampler() Qiskit objects\n",
    "\n",
    "## Possible Prerequisites\n",
    "\n",
    "- The assumption during this tutorial is that the PennyLane video was watched.  We refer to the video and add some additional observations and clarifications throughout the notebook.\n",
    "- Knowing how rotational gates effect the quantum state of a qubit and the role of the parameter angle are probably the main topics to know. Playing around with a Bloch Sphere tool can get one up to speed quickly.\n",
    "- If one wants to understand how the Hamiltonian objective function is coded then an understanding of Tensor products would be helpful.\n",
    "- General understanding of the role of the objective function and the basics of steepest descent optimization algorithms could be helpful if one wants to experiment with a few of them. "
   ]
  },
  {
   "cell_type": "code",
   "execution_count": 63,
   "id": "efa99ef0-4da5-4db5-a870-5798db0bf56a",
   "metadata": {
    "tags": []
   },
   "outputs": [],
   "source": [
    "# Importing standard Qiskit libraries\n",
    "from qiskit import QuantumCircuit, transpile\n",
    "from qiskit.tools.jupyter import *\n",
    "from qiskit.visualization import *\n",
    "from ibm_quantum_widgets import *\n",
    "from qiskit_aer import AerSimulator\n",
    "\n",
    "# Added these libraries\n",
    "import numpy as np\n",
    "from qiskit.primitives import Estimator, Sampler\n",
    "from qiskit.quantum_info import Statevector\n",
    "from qiskit.algorithms.optimizers import GradientDescent, GradientDescentState, SPSA, AQGD\n",
    "import pandas as pd\n",
    "import matplotlib.pyplot as plt\n",
    "from qiskit.opflow import I, X, Y, Z  # This library may be going away so need to add the latest library\n",
    "\n",
    "np.set_printoptions(suppress=True) \n",
    "\n",
    "# Use this to try Runtime\n",
    "# qiskit-ibmq-provider has been deprecated.\n",
    "# Please see the Migration Guides in https://ibm.biz/provider_migration_guide for more detail.\n",
    "#from qiskit_ibm_runtime import QiskitRuntimeService, Sampler, Estimator, Session, Options\n",
    "\n",
    "# Loading your IBM Quantum account(s)\n",
    "#service = QiskitRuntimeService(channel=\"ibm_quantum\")\n",
    "\n",
    "# Invoke a primitive inside a session. For more details see https://qiskit.org/documentation/partners/qiskit_ibm_runtime/tutorials.html\n",
    "# with Session(backend=service.backend(\"ibmq_qasm_simulator\")):\n",
    "#     result = Sampler().run(circuits).result()"
   ]
  },
  {
   "cell_type": "markdown",
   "id": "f5209ba2-ed4c-42f4-8c92-bf7a1d20908c",
   "metadata": {
    "tags": []
   },
   "source": [
    "# Problem Formulation\n",
    "\n",
    "Using graph theory terminology, the formulation of the event scheduling problem as stated in the PennyLane video describes the events as the nodes while the edges connect the two nodes (events) an attendee wants to see.  This problem and its solution can be adapted to solve a wider class of graph problems including bipartite detection and stable matching that have significant practical applications.  The best possible outcome for an optimal solution simplfies down to finding two independent sets nodes (events) such that every node is in one of the two sets but no two nodes in a set share an edge because any shared edge would create a conflict for the associated attendee.  If such a pair of independent sets exists, then every person will be able to attend their preferred events in two days. If no such independent set pair exists, then the optimal solution will have at least one person not attending an event on both days.\n",
    "\n",
    "## Five Coding Steps of the Solution\n",
    "\n",
    "1. Create the Hamitonian objective function to minimize.\n",
    "2. Create the parameterized circuit that uses Qiskit's Estimator() object to calculate the expected value of the Hamilitonian for a given input of rotation angles parameters, one for each qubit (event).\n",
    "3. Run a Qiskit-provided optimizer on the parameterized circuit that varies the parameters to achieve a lower expected value of the Hamiltonian at each iteration.\n",
    "4. For the final set of parameters, call Qiskit's Sampler() object to perform 1000 trials and measure the value of the Hamiltonian for each trial.  The result will be a quasi probability distribution for the value of the Hamiltonian for the given set of parameters.\n",
    "5. Analyze various statistics on the quasi-distribution.\n",
    "\n",
    "In the code presented here, steps 3, 4, and 5 are run for 100 random initial parameter settings to be able to do further analysis as detailed below."
   ]
  },
  {
   "cell_type": "markdown",
   "id": "5d6ffa35-dcfe-4933-8bd8-9ddb3cf65498",
   "metadata": {
    "tags": []
   },
   "source": [
    "## Creation of the Hamiltonian and the Parameterized Quantum Circuit\n",
    "\n",
    "The term Hamiltonian can be daunting for someone with no quantum mechanics or chemistry background.  One would lik to go down the path of learning the Schrodinger's Equation.  While the equation is a fascinating result, to the beginner, the process can force them into a rabbit hole that quickly becomes overwhelming.  For the purposes of this problem, the Hamiltonian is simply a function that measures the sum of the events all attendees can go to over the two days for a given event schedule.  Consequently, the goal is to optimize that function.  That's all that is needed to understand to proceed.\n",
    "\n",
    "The PennyLane video discusses the steps to create the Hamiltonian but does not go into detail on some of these steps.  Lecture 5.2 from the 2021 IBM Quantum Summer School gives a detailed derivation of the Hamiltonian from a generic quadratic objective function. Understanding the mathematics will be helpful if one wants to alter the Hamiltonian to include additional variables, incorporate constraints, or generalize to other scheduling or matching graph problems.  The derivation starts at the 10:49 mark of the video below and runs for about 8 minutes:\n",
    "\n",
    "(https://youtu.be/YpLzSQPrgSc)\n",
    "\n",
    "The change of variables from x's to z's exploits the eigenvalues of the Pauli matrices (-1 and 1) in order to create the Hamiltonian function.  Z gates are required in the Hamiltonian because the computational basis will be used to calculate the expected value of the operator.  To be clear, the qubits represent the events, not the attendees and to implement the circuit in Qiskit, the Hamiltonian implemented here differs in order from the one presented in the PennyLane video so that the order of the Z Gates lead to q0 corresponding to event 1 and q4 corresponding to event 5.   \n",
    "\n",
    "When programming the circuit, the video does not give an explanation about why Ry gates are used over Rz or Rx gates.  In fact, Rx gates could be used as an alternative because they enable a qubit to move between 0 and 1 (think of the Bloch Sphere).  Try it. Rz gates, on the other hand, only change the phase so using strictly Rz gates would not allow for sufficient exploration of the state space during the optimization step.\n",
    "\n",
    "## Test of the Expectation of the Hamiltonian and the Explanation of the Results\n",
    "\n",
    "In the PennyLane video, the initial test example sets the parameters to zero.  As a result, all the Ry gates are performing rotations of zero degrees.  Since the initial state has all qubits in the zero state, the final state will have all qubits in the the zero state because effectively no rotations were performed.  As a result, all events will be held on Saturday and each person can only attend one event so the total number of events attended is 4 which is equivalent to an expectation value of -4 for the Hamiltonian.\n",
    "\n",
    "Note that the minimum possible value of the Hamiltonian is -8 and occurs only if there is a way that each of the 4 attendees can attend their 2 events."
   ]
  },
  {
   "cell_type": "code",
   "execution_count": 64,
   "id": "3a94f0a9-a4df-4582-a394-6f08fdc03179",
   "metadata": {
    "tags": []
   },
   "outputs": [
    {
     "name": "stdout",
     "output_type": "stream",
     "text": [
      "-6.0 * IIIII\n",
      "+ 0.5 * IZIIZ\n",
      "+ 0.5 * IIZZI\n",
      "+ 0.5 * ZZIII\n",
      "+ 0.5 * IZZII\n"
     ]
    },
    {
     "data": {
      "text/plain": [
       "qiskit.opflow.primitive_ops.pauli_sum_op.PauliSumOp"
      ]
     },
     "execution_count": 64,
     "metadata": {},
     "output_type": "execute_result"
    }
   ],
   "source": [
    "# Coding Step 1\n",
    "\n",
    "# From PennyLane:  H = - 6 * (I^I^I^I^I) + 0.5 * (Z^I^I^Z^I) + 0.5 * (I^Z^Z^I^I) + 0.5 * (I^I^I^Z^Z) + 0.5 * (I^I^Z^Z^I)\n",
    "# Reversed the qubits for Qiskit\n",
    "# Event 1 corresponds to qubit 0 and Event 5 corresponds to qubit 4\n",
    "# Note that the qiskit.opflow library may be going away so need to add the latest library\n",
    "\n",
    "H = - 6 * (I^I^I^I^I) + 0.5 * (I^Z^I^I^Z) + 0.5 * (I^I^Z^Z^I) + 0.5 * (Z^Z^I^I^I) + 0.5 * (I^Z^Z^I^I)   # Edit the coefficient on the last term to reduce local minimums\n",
    "print(H)\n",
    "type(H)"
   ]
  },
  {
   "cell_type": "code",
   "execution_count": 65,
   "id": "79d6c694-220c-48f7-91b3-5638807e1616",
   "metadata": {
    "tags": []
   },
   "outputs": [
    {
     "name": "stdout",
     "output_type": "stream",
     "text": [
      "expectation:  -4.0\n"
     ]
    }
   ],
   "source": [
    "# Coding Step 2\n",
    "\n",
    "# qubo_circuit returns the expected value of the Hamiltonian and is the function that the optimizer will call\n",
    "\n",
    "# After creating the quantum circuit, we perform an initial test assuming no rotation angles so each qubit\n",
    "# will be unchanged after applying the Ry gates.  So the output qubits will be all zero (since the initial\n",
    "# state is all zero) so all events will be held on Saturday and each attendee only goes to one event which\n",
    "# is confirmed with an expected value of -4 for the Hamiltonian.  Remember that we are minimizing the\n",
    "# objective function so the a result of -4 corresponds to a total of 4 events being attended\n",
    "\n",
    "params = [0,0,0,0,0] #rotation angles for the initial test\n",
    "\n",
    "estimator = Estimator()\n",
    "\n",
    "def qubo_circuit(params):\n",
    "    qubo_c = QuantumCircuit(5)\n",
    "    for i in range(5):\n",
    "        qubo_c.rx(params[i], i)\n",
    "    return estimator.run(qubo_c, H).result().values[0]\n",
    "\n",
    "expectation_value = qubo_circuit(params)\n",
    "\n",
    "print(\"expectation: \", expectation_value)\n"
   ]
  },
  {
   "cell_type": "markdown",
   "id": "7fe1a13f-e21e-4817-8928-1d8f2c367c8f",
   "metadata": {},
   "source": [
    "# Optimization\n",
    "\n",
    "While a QUBO is a quadratic optimization function, we are not guaranteed to obtain the global minimum from gradient methods because the variables are not continuous but are, in fact, discrete (binary).\n",
    "\n",
    "The qubo_circuit function returns the expected value of the Hamiltonian for a given set of parameters.  In performing the optimization, a gradient method uses finite difference calculations to determine the next direction of exploration until the maximum number of iterations is reached or a tolerance threshold is achieved.\n",
    "\n",
    "We perform 100 runs, each starting with a set of random initial parameters to determine what percentage of runs converge to the global minimum.  The vanilla gradient descent algorithm converges very slowly but the SPSA algorithm provides convergence within a reasonable time frame.  We store the final parameters and expectation values of the Hamiltonian for each run to perform further analysis.  \n"
   ]
  },
  {
   "cell_type": "code",
   "execution_count": 66,
   "id": "c885006e-ae26-4be5-ba52-69a67630452e",
   "metadata": {
    "tags": []
   },
   "outputs": [
    {
     "name": "stdout",
     "output_type": "stream",
     "text": [
      "Run:  0\n",
      "Found minimum [0.     3.1416 0.     3.1416 0.    ] at a value of -8.0 using 1000 evaluations.\n",
      "Run:  1\n",
      "Found minimum [ 3.1416  0.     -3.1416  0.      3.1416] at a value of -8.0 using 1000 evaluations.\n",
      "Run:  2\n",
      "Found minimum [ 3.1416 -0.     -3.1416 -0.      3.1416] at a value of -8.0 using 1000 evaluations.\n",
      "Run:  3\n",
      "Found minimum [-3.1416  3.1416  0.2368  0.      3.1416] at a value of -7.0 using 1000 evaluations.\n",
      "Run:  4\n",
      "Found minimum [ 0.0004  3.1417 -0.0001  3.1415 -0.0008] at a value of -8.0 using 1000 evaluations.\n",
      "Run:  5\n",
      "Found minimum [-0.0032  3.0654 -0.001   3.1388 -0.0122] at a value of -7.9985 using 1000 evaluations.\n",
      "Run:  6\n",
      "Found minimum [ 3.1416 -0.     -3.1416 -0.      3.1416] at a value of -8.0 using 1000 evaluations.\n",
      "Run:  7\n",
      "Found minimum [ 3.1416 -0.      3.1416 -0.     -3.1416] at a value of -8.0 using 1000 evaluations.\n",
      "Run:  8\n",
      "Found minimum [3.1416 0.     3.1416 0.     3.1416] at a value of -8.0 using 1000 evaluations.\n",
      "Run:  9\n",
      "Found minimum [ 3.1415  0.     -3.1416 -0.     -3.1416] at a value of -8.0 using 1000 evaluations.\n",
      "Run:  10\n",
      "Found minimum [ 0.0012  3.1391 -0.0003 -3.1414 -0.001 ] at a value of -8.0 using 1000 evaluations.\n",
      "Run:  11\n",
      "Found minimum [-0.     -3.1416  0.      3.1416  6.2832] at a value of -8.0 using 1000 evaluations.\n",
      "Run:  12\n",
      "Found minimum [-3.1416 -0.      3.1416 -0.     -3.1416] at a value of -8.0 using 1000 evaluations.\n",
      "Run:  13\n",
      "Found minimum [ 3.1416  0.      3.1416 -0.      3.1416] at a value of -8.0 using 1000 evaluations.\n",
      "Run:  14\n",
      "Found minimum [ 3.112  -1.1436 -2.8842 -0.0911  3.1923] at a value of -7.6769 using 1000 evaluations.\n",
      "Run:  15\n",
      "Found minimum [-3.141   0.0003 -3.1416  0.     -3.141 ] at a value of -8.0 using 1000 evaluations.\n",
      "Run:  16\n",
      "Found minimum [ 3.1416 -0.     -3.1416 -0.      3.1416] at a value of -8.0 using 1000 evaluations.\n",
      "Run:  17\n",
      "Found minimum [-0.      3.1416 -0.     -3.1416  0.    ] at a value of -8.0 using 1000 evaluations.\n",
      "Run:  18\n",
      "Found minimum [-0.      3.1414 -0.     -3.1416  6.283 ] at a value of -8.0 using 1000 evaluations.\n",
      "Run:  19\n",
      "Found minimum [-0.0001  3.141  -0.     -3.1415 -0.0001] at a value of -8.0 using 1000 evaluations.\n",
      "Run:  20\n",
      "Found minimum [ 3.1406 -0.0014 -3.1416  0.     -3.1409] at a value of -8.0 using 1000 evaluations.\n",
      "Run:  21\n",
      "Found minimum [-0.      3.1416  0.     -3.1416 -0.    ] at a value of -8.0 using 1000 evaluations.\n",
      "Run:  22\n",
      "Found minimum [-3.1416  0.      3.1416 -0.     -3.1416] at a value of -8.0 using 1000 evaluations.\n",
      "Run:  23\n",
      "Found minimum [ 3.1405  0.0018 -3.1416  0.      3.1401] at a value of -8.0 using 1000 evaluations.\n",
      "Run:  24\n",
      "Found minimum [ 3.1416  0.      3.1416 -0.      3.1416] at a value of -8.0 using 1000 evaluations.\n",
      "Run:  25\n",
      "Found minimum [ 3.1419 -0.0088  3.1421 -0.0004 -3.1382] at a value of -8.0 using 1000 evaluations.\n",
      "Run:  26\n",
      "Found minimum [ 0.     -0.      2.6919  3.1416 -0.    ] at a value of -7.0 using 1000 evaluations.\n",
      "Run:  27\n",
      "Found minimum [-3.1416 -3.1416 -0.1051 -0.      3.1416] at a value of -7.0 using 1000 evaluations.\n",
      "Run:  28\n",
      "Found minimum [ 3.1409 -0.0002  3.1415  0.      3.1416] at a value of -8.0 using 1000 evaluations.\n",
      "Run:  29\n",
      "Found minimum [ 3.141  -6.282  -3.1416 -0.0001  3.1415] at a value of -8.0 using 1000 evaluations.\n",
      "Run:  30\n",
      "Found minimum [-0.      3.1416  6.2832  3.1416  0.    ] at a value of -8.0 using 1000 evaluations.\n",
      "Run:  31\n",
      "Found minimum [ 3.1416 -0.      3.1416  0.     -3.1416] at a value of -8.0 using 1000 evaluations.\n",
      "Run:  32\n",
      "Found minimum [ 0.0002 -3.1416 -0.     -3.1416 -0.0001] at a value of -8.0 using 1000 evaluations.\n",
      "Run:  33\n",
      "Found minimum [-3.1417  0.0005  3.1418  0.     -3.1424] at a value of -8.0 using 1000 evaluations.\n",
      "Run:  34\n",
      "Found minimum [ 3.1415  0.     -3.1416 -0.      3.1416] at a value of -8.0 using 1000 evaluations.\n",
      "Run:  35\n",
      "Found minimum [ 3.1416  0.     -3.1416  0.      3.1416] at a value of -8.0 using 1000 evaluations.\n",
      "Run:  36\n",
      "Found minimum [-3.1416  0.0001 -3.1416  0.     -3.1415] at a value of -8.0 using 1000 evaluations.\n",
      "Run:  37\n",
      "Found minimum [-0.     -3.1416 -0.     -3.1416  0.    ] at a value of -8.0 using 1000 evaluations.\n",
      "Run:  38\n",
      "Found minimum [ 0.0001  3.1415  0.     -3.1416  0.    ] at a value of -8.0 using 1000 evaluations.\n",
      "Run:  39\n",
      "Found minimum [-3.1416  0.      3.1416  0.      3.1416] at a value of -8.0 using 1000 evaluations.\n",
      "Run:  40\n",
      "Found minimum [ 3.1414 -0.0003  3.1416 -0.      3.1416] at a value of -8.0 using 1000 evaluations.\n",
      "Run:  41\n",
      "Found minimum [-0.0002  3.1417 -0.     -3.1416  0.    ] at a value of -8.0 using 1000 evaluations.\n",
      "Run:  42\n",
      "Found minimum [-0.     -0.     -2.5545  3.1416 -0.    ] at a value of -7.0 using 1000 evaluations.\n",
      "Run:  43\n",
      "Found minimum [ 0.     -3.1416 -0.      3.1416 -0.    ] at a value of -8.0 using 1000 evaluations.\n",
      "Run:  44\n",
      "Found minimum [ 3.1416  0.     -3.1416  0.     -3.1416] at a value of -8.0 using 1000 evaluations.\n",
      "Run:  45\n",
      "Found minimum [-3.1415 -0.     -3.1416 -0.     -3.1415] at a value of -8.0 using 1000 evaluations.\n",
      "Run:  46\n",
      "Found minimum [-0.0002 -3.1412  0.     -3.1416 -0.0001] at a value of -8.0 using 1000 evaluations.\n",
      "Run:  47\n",
      "Found minimum [-3.1416  0.      3.1416  0.     -3.1416] at a value of -8.0 using 1000 evaluations.\n",
      "Run:  48\n",
      "Found minimum [-3.1416  0.      3.1416 -0.      3.1416] at a value of -8.0 using 1000 evaluations.\n",
      "Run:  49\n",
      "Found minimum [ 3.1416 -0.      3.1416 -0.     -3.1415] at a value of -8.0 using 1000 evaluations.\n",
      "Run:  50\n",
      "Found minimum [-3.1416 -0.     -3.1416  0.      3.1416] at a value of -8.0 using 1000 evaluations.\n",
      "Run:  51\n",
      "Found minimum [-3.1416 -3.1416 -0.7318 -0.     -3.1416] at a value of -7.0 using 1000 evaluations.\n",
      "Run:  52\n",
      "Found minimum [-3.1416  3.1416 -0.7672  0.      3.1416] at a value of -7.0 using 1000 evaluations.\n",
      "Run:  53\n",
      "Found minimum [ 0.     -3.1416  0.      3.1416 -0.    ] at a value of -8.0 using 1000 evaluations.\n",
      "Run:  54\n",
      "Found minimum [-0.     -3.1416  0.     -3.1416  0.    ] at a value of -8.0 using 1000 evaluations.\n",
      "Run:  55\n",
      "Found minimum [ 3.1416  3.1416  0.6712  0.     -3.1416] at a value of -7.0 using 1000 evaluations.\n",
      "Run:  56\n",
      "Found minimum [ 3.1416 -0.     -3.1416 -0.     -3.1416] at a value of -8.0 using 1000 evaluations.\n",
      "Run:  57\n",
      "Found minimum [ 6.2832  3.1416 -0.      3.1416  0.    ] at a value of -8.0 using 1000 evaluations.\n",
      "Run:  58\n",
      "Found minimum [-0.0008 -3.1399 -0.      3.1417  0.0004] at a value of -8.0 using 1000 evaluations.\n",
      "Run:  59\n",
      "Found minimum [-0.     -3.1416 -0.     -3.1416 -0.    ] at a value of -8.0 using 1000 evaluations.\n",
      "Run:  60\n",
      "Found minimum [ 0.     -3.1416 -0.     -3.1416  0.    ] at a value of -8.0 using 1000 evaluations.\n",
      "Run:  61\n",
      "Found minimum [-3.1416  0.      3.1416 -0.     -3.1416] at a value of -8.0 using 1000 evaluations.\n",
      "Run:  62\n",
      "Found minimum [-0.      0.     -2.4646  3.1416  6.2832] at a value of -7.0 using 1000 evaluations.\n",
      "Run:  63\n",
      "Found minimum [-3.1416  3.1418 -1.0731 -0.     -3.1416] at a value of -7.0 using 1000 evaluations.\n",
      "Run:  64\n",
      "Found minimum [-3.1416  0.      3.1416  0.     -3.1416] at a value of -8.0 using 1000 evaluations.\n",
      "Run:  65\n",
      "Found minimum [-0.0008  3.141   0.0001  3.1417 -0.0013] at a value of -8.0 using 1000 evaluations.\n",
      "Run:  66\n",
      "Found minimum [ 0.      3.1416  0.     -3.1416  0.    ] at a value of -8.0 using 1000 evaluations.\n",
      "Run:  67\n",
      "Found minimum [ 3.1416 -6.2832  3.1416  0.     -3.1416] at a value of -8.0 using 1000 evaluations.\n",
      "Run:  68\n",
      "Found minimum [-0.     -0.     -3.0269 -3.1416 -0.    ] at a value of -7.0 using 1000 evaluations.\n",
      "Run:  69\n",
      "Found minimum [ 0.     -3.1416 -0.     -3.1416 -0.    ] at a value of -8.0 using 1000 evaluations.\n",
      "Run:  70\n",
      "Found minimum [ 0.      3.1416  0.     -3.1416  0.    ] at a value of -8.0 using 1000 evaluations.\n",
      "Run:  71\n",
      "Found minimum [-3.1416 -0.     -3.1416 -0.      3.1416] at a value of -8.0 using 1000 evaluations.\n",
      "Run:  72\n",
      "Found minimum [-3.1416 -0.     -3.1416  0.     -3.1416] at a value of -8.0 using 1000 evaluations.\n",
      "Run:  73\n",
      "Found minimum [ 0.      3.1415 -0.      3.1416 -0.0001] at a value of -8.0 using 1000 evaluations.\n",
      "Run:  74\n",
      "Found minimum [-0.     -0.      2.9016 -3.1416  0.    ] at a value of -7.0 using 1000 evaluations.\n",
      "Run:  75\n",
      "Found minimum [-0.001  -3.1385 -0.      3.1413 -0.0024] at a value of -8.0 using 1000 evaluations.\n",
      "Run:  76\n",
      "Found minimum [ 6.2832  3.1416 -0.      3.1416  0.    ] at a value of -8.0 using 1000 evaluations.\n",
      "Run:  77\n",
      "Found minimum [-3.1416 -0.     -3.1416  0.      3.1416] at a value of -8.0 using 1000 evaluations.\n",
      "Run:  78\n",
      "Found minimum [-3.1415  0.0002 -3.1416  0.     -3.1412] at a value of -8.0 using 1000 evaluations.\n",
      "Run:  79\n",
      "Found minimum [-3.1416  0.      3.1416  0.      3.1416] at a value of -8.0 using 1000 evaluations.\n",
      "Run:  80\n",
      "Found minimum [-3.1416  0.     -3.1416  0.      3.1416] at a value of -8.0 using 1000 evaluations.\n",
      "Run:  81\n",
      "Found minimum [-0.     -3.1416 -0.      3.1416 -0.    ] at a value of -8.0 using 1000 evaluations.\n",
      "Run:  82\n",
      "Found minimum [-3.1416  0.     -3.1416 -0.     -3.1416] at a value of -8.0 using 1000 evaluations.\n",
      "Run:  83\n",
      "Found minimum [-0.      3.1416 -0.     -3.1416 -0.    ] at a value of -8.0 using 1000 evaluations.\n",
      "Run:  84\n",
      "Found minimum [-3.1415 -0.     -3.1416 -0.      3.1415] at a value of -8.0 using 1000 evaluations.\n",
      "Run:  85\n",
      "Found minimum [-3.1416 -0.      3.1416 -0.     -3.1416] at a value of -8.0 using 1000 evaluations.\n",
      "Run:  86\n",
      "Found minimum [ 3.1416 -0.      3.1416 -0.      3.1416] at a value of -8.0 using 1000 evaluations.\n",
      "Run:  87\n",
      "Found minimum [ 3.1419 -0.      3.1416 -0.      3.1412] at a value of -8.0 using 1000 evaluations.\n",
      "Run:  88\n",
      "Found minimum [-0.     -3.1416  6.2832 -3.1416  6.2832] at a value of -8.0 using 1000 evaluations.\n",
      "Run:  89\n",
      "Found minimum [ 3.1416 -0.      3.1416 -0.     -3.1416] at a value of -8.0 using 1000 evaluations.\n",
      "Run:  90\n",
      "Found minimum [ 3.1397 -3.1443 -0.489   0.0005  3.1417] at a value of -7.0 using 1000 evaluations.\n",
      "Run:  91\n",
      "Found minimum [ 3.1416  0.     -3.1416 -0.      3.1416] at a value of -8.0 using 1000 evaluations.\n",
      "Run:  92\n",
      "Found minimum [ 0.      3.1416 -0.      3.1416  6.2832] at a value of -8.0 using 1000 evaluations.\n",
      "Run:  93\n",
      "Found minimum [-3.1416 -0.     -3.1416 -0.      3.1416] at a value of -8.0 using 1000 evaluations.\n",
      "Run:  94\n",
      "Found minimum [-0.      0.     -2.7523 -3.1416 -0.    ] at a value of -7.0 using 1000 evaluations.\n",
      "Run:  95\n",
      "Found minimum [ 0.      3.1416 -0.      3.1416  0.    ] at a value of -8.0 using 1000 evaluations.\n",
      "Run:  96\n",
      "Found minimum [-3.1416  0.      3.1416  0.     -3.1416] at a value of -8.0 using 1000 evaluations.\n",
      "Run:  97\n",
      "Found minimum [-3.1416 -3.1416 -0.6617 -0.     -3.1416] at a value of -7.0 using 1000 evaluations.\n",
      "Run:  98\n",
      "Found minimum [-0.0014  3.1439 -0.0001 -3.1412 -0.003 ] at a value of -8.0 using 1000 evaluations.\n",
      "Run:  99\n",
      "Found minimum [-0.     -3.1416 -0.     -3.1416  0.0001] at a value of -8.0 using 1000 evaluations.\n"
     ]
    }
   ],
   "source": [
    "# Coding Step 3\n",
    "\n",
    "# For each run, we output the final parameters, the value of the objective function for those parameters,\n",
    "# and the number calls to qubo_circuit\n",
    "\n",
    "fp = [] # final parameters for each iteration\n",
    "exp_val = [] # expected value for each iteration\n",
    "#np.random.seed(0)  # Uncomment if you want to run the same seed (Only useful when using deterministic optimization algorithms)\n",
    "num = 100\n",
    "for i in range (num):\n",
    "    params = 2*np.pi*np.random.rand(5) - np.pi #initial random rotation angles between -pi and pi to create more balance between mirror states\n",
    "    print(\"Run: \", i)\n",
    "\n",
    "    # Gradient Descent converges very slowly.  Need to increase the step size.\n",
    "    #optimizer = GradientDescent(maxiter=800)\n",
    "    #result = optimizer.minimize(fun=qubo_circuit, x0=params)\n",
    "\n",
    "    # SPSA is fast\n",
    "    optimizer = SPSA(maxiter=500)\n",
    "    result = optimizer.minimize(fun=qubo_circuit,x0=params)\n",
    "\n",
    "    # I haven't been able to get AQGD to work\n",
    "    #optimizer = AQGD(maxiter=200, eta=2.0)\n",
    "    #result = optimizer.minimize(fun=qubo_circuit,x0=params)\n",
    "\n",
    "    #print(result)\n",
    "    print(f\"Found minimum {np.round(result.x, 4)} at a value of {np.round(result.fun, 4)} using {result.nfev} evaluations.\")\n",
    "    params_f = np.ndarray.round(result.x,4)\n",
    "    fp.append(params_f)\n",
    "    exp_val.append(result.fun)"
   ]
  },
  {
   "cell_type": "markdown",
   "id": "d68be9a9-9e46-48ab-a9ab-d46c0363b81f",
   "metadata": {},
   "source": [
    "# Quasi-distributions\n",
    "\n",
    "Notice from the above output that when a value near -8 is achieved that either events 2 and 4 under go a rotation approaching + or - pi or events 1, 3, and 5 under go a rotation approaching + or - pi.  This observation makes sense as such an ry gate rotation flips a qubit from the 0 state to the 1 state.  Also, note that a parameter value of + or - 6.28 approximates 2 times pi which will have a rotation of zero.  We do further analysis discussed below.\n",
    "\n",
    "We use Qiskit's Sampler to perform 1000 measurements on each of the 100 runs to find the quasi distributions of each run.  The output is python dictionary the keys being the decimal representation of bit streams, and values being the realized probabilities.  Note that the decimal representations of the classical bit streams will range between 0 and 31 to represent which of the five events take place on Sunday (bit value 1) or Saturday (bit value 0).  For example, a bit stream value for 10 is 01010 which occurs when events 2 and 4 occur on Sunday and events 1, 3, and 5 occcur on Saturday."
   ]
  },
  {
   "cell_type": "code",
   "execution_count": 67,
   "id": "f8338a78-1fef-433f-b345-47cd7608c270",
   "metadata": {},
   "outputs": [
    {
     "name": "stdout",
     "output_type": "stream",
     "text": [
      "Run:   9\n",
      "Run:   19\n",
      "Run:   29\n",
      "Run:   39\n",
      "Run:   49\n",
      "Run:   59\n",
      "Run:   69\n",
      "Run:   79\n",
      "Run:   89\n",
      "Run:   99\n"
     ]
    }
   ],
   "source": [
    "# Coding Step 4\n",
    "\n",
    "# We recreate the parameterized circuit to include measurements of the five qubits to enable sampling\n",
    "# to create the quasi-distributions for each run\n",
    "\n",
    "sampler = Sampler()\n",
    "\n",
    "def qubo_circuit_sample(params):\n",
    "    qubo_c = QuantumCircuit(5,5)\n",
    "    for i in range(5):\n",
    "        qubo_c.rx(params[i], i)\n",
    "        qubo_c.measure([i],[i])\n",
    "    qubo_c.draw('mpl')\n",
    "    job = sampler.run(qubo_c, shots=1000)\n",
    "    return job.result()\n",
    "\n",
    "sample_val=[]\n",
    "for i in range(num):\n",
    "    sample_val.append(qubo_circuit_sample(fp[i]))\n",
    "    if i%10 == 9:\n",
    "        print(\"Run:  \", i)"
   ]
  },
  {
   "cell_type": "code",
   "execution_count": 68,
   "id": "a4c861dc-63c3-4710-adf7-8247453bf18e",
   "metadata": {},
   "outputs": [
    {
     "name": "stdout",
     "output_type": "stream",
     "text": [
      "Run:   3    Exp Val:   -7.0       Quasi Dist:   [{19: 0.986, 23: 0.014}]\n",
      "Run:   26    Exp Val:   -7.0       Quasi Dist:   [{8: 0.067, 12: 0.933}]\n",
      "Run:   27    Exp Val:   -7.0       Quasi Dist:   [{19: 0.998, 23: 0.002}]\n",
      "Run:   42    Exp Val:   -7.0       Quasi Dist:   [{8: 0.092, 12: 0.908}]\n",
      "Run:   51    Exp Val:   -7.0       Quasi Dist:   [{19: 0.865, 23: 0.135}]\n",
      "Run:   52    Exp Val:   -7.0       Quasi Dist:   [{19: 0.856, 23: 0.144}]\n",
      "Run:   55    Exp Val:   -7.0       Quasi Dist:   [{19: 0.902, 23: 0.098}]\n",
      "Run:   62    Exp Val:   -7.0       Quasi Dist:   [{8: 0.109, 12: 0.891}]\n",
      "Run:   63    Exp Val:   -7.0       Quasi Dist:   [{19: 0.726, 23: 0.274}]\n",
      "Run:   68    Exp Val:   -7.0       Quasi Dist:   [{8: 0.002, 12: 0.998}]\n",
      "Run:   74    Exp Val:   -7.0       Quasi Dist:   [{8: 0.015, 12: 0.985}]\n",
      "Run:   90    Exp Val:   -7.0       Quasi Dist:   [{19: 0.946, 23: 0.054}]\n",
      "Run:   94    Exp Val:   -7.0       Quasi Dist:   [{8: 0.042, 12: 0.958}]\n",
      "Run:   97    Exp Val:   -7.0       Quasi Dist:   [{19: 0.899, 23: 0.101}]\n"
     ]
    },
    {
     "data": {
      "text/plain": [
       "(array([85.,  0.,  0.,  1.,  0.,  0.,  0.,  0.,  0., 14.]),\n",
       " array([-8. , -7.9, -7.8, -7.7, -7.6, -7.5, -7.4, -7.3, -7.2, -7.1, -7. ]),\n",
       " <BarContainer object of 10 artists>)"
      ]
     },
     "execution_count": 68,
     "metadata": {},
     "output_type": "execute_result"
    },
    {
     "data": {
      "image/png": "[encoded data removed]",
      "text/plain": [
       "<Figure size 640x480 with 1 Axes>"
      ]
     },
     "metadata": {},
     "output_type": "display_data"
    }
   ],
   "source": [
    "# Coding Step 5\n",
    "\n",
    "# We do very simple analysis here\n",
    "# First, we output all the runs that do not reach the global maximum\n",
    "# Second, we plot a histogram of all the runs to see what percent reach the global minimum\n",
    "\n",
    "exp_val_short=[]\n",
    "for i in range(num):\n",
    "    if (exp_val[i] > -7.5):  # currently prints out runs stuck in a local minimum.  Change to < to get the global minimum runs\n",
    "        print(\"Run:  \", i,\"   Exp Val:  \", np.round(exp_val[i],2), \"      Quasi Dist:  \", sample_val[i].quasi_dists)\n",
    "    exp_val_short.append(np.round(exp_val[i],2))\n",
    "\n",
    "plt.hist(exp_val_short)"
   ]
  },
  {
   "cell_type": "markdown",
   "id": "bfc5ed64-6b4b-443f-a7d3-c01a839f1ad0",
   "metadata": {
    "tags": []
   },
   "source": [
    "# Analysis\n",
    "\n",
    "Recall that attendee 1 prefers events 1 and 4, attendee 2 prefers events 2 and 3, attendee 3 prefers events 3 and 4, and attendee 4 prefers events 4 and 5.\n",
    "\n",
    "See the table of 1) sample decimal values of the classical bit streams with a range of 0 - 31 corresponding to the 5 bits associated with the 5 events, 2) the associated Hamiltonian value, and 3) the events to be held on Sunday for that decimal value.\n",
    "\n",
    "| Decimal Value of Bit Stream |   Hamiltonian Value (-) |  Events on Sunday |\n",
    "| --- | ---- | ---- |\n",
    "| 5 (00101) |              7 |                3, 1 |\n",
    "| 8 (01000) |             7  |                4 |\n",
    "| 10 (01010) |             8 |                4, 2 |\n",
    "| 11 (01011) |             7 |                4, 2, 1 |\n",
    "| 12 (01100) |             7 |                4, 3 |\n",
    "| 14 (01110) |             6 |                4, 3, 2 |\n",
    "| 19 (10011) |             7 |                5, 2, 1  |\n",
    "| 20 (10100) |             7 |                5, 3 |\n",
    "| 21 (10101) |             8 |                5, 3, 1 |\n",
    "| 23 (10111) |             7 |                5, 3, 2, 1 |\n",
    "| 26 (11011) |             7 |                5, 4, 2 |\n",
    "\n",
    "\n",
    "## Global minimum\n",
    "\n",
    "Since the maximum number of events that can be attended by the four attendees is also 8, we know that we have achieved a global minimum if an expected value of Hamiltonian of -8 is obtained.  In the 100 runs, this global minimum is reached roughly 75% of the time.  This expectation value is reached when events 2 and 4 occur together on Sunday and events 1, 3, and 5 occur on Saturday.  This occurence corresponds to a bit stream value of 10 (01010).\n",
    "\n",
    "In order to study the runs that do not attain the global minimums in more detail, the current output only prints the quasi distributions of runs with an expected value > -7.5 which one can modify as desired.  The histogram does include all 100 runs.\n",
    "\n",
    "## Symmetry\n",
    "\n",
    "Note that the mirror solution of having events 1, 3, and 5 occur on Sunday with a bit stream value of 21 (10101) also attains an expected value of -8.  The mirror of each classical bit stream output is its difference from 31.  For example, an output of 10 corresponds to events 2 and 4 being held on Sunday and its mirror is 31 - 10 = 21 which corresponded to events 1, 3, and 5 being held on Sunday.  The two solutions are equivalent to the problem as formulated.  The problem always has two solutions because the mirror one could just flip the events on Saturday and Sunday to obtain the same expected value of the Hamiltonian.\n",
    "\n",
    "## Phase shifts\n",
    "\n",
    "There are multiple possible ry gate combinations (final parameter settings) that can yield the same bit stream value.  As an example, ry gate rotations of pi and -pi will yield opposite probability amplitudes but the same measurement probabilities.  Similarly, a rotation of -2 times pi, 0, and 2 times pi will all yield a rotation of zero degrees.\n",
    "\n",
    "## Quantum phenonmena or rounding error?\n",
    "\n",
    "It is interesting to observe that even when the global minimum is reached there are some runs that have some non-zero quasi probability of not attaining that minimum.  This may due to the optimization algorithm timing out at its maximum iteration count or due to rounding error in the final parameters of the rotation gates specifically because pi is an irrational number.\n",
    "\n",
    "However, for the runs that attain a local minimum value near 7, we do observe that most have a quasi distribution that is split between a decimal state of 8 (only event 4 on Sunday) and 12 (only events 3 and 4 on Sunday) with both having significant non-zero probabilities.  This suggests that in most local minimums there is superposition between at least two event states at these local minimums.\n",
    "\n",
    "The observation that the quasi probabilities between states 8 and 12 appear to vary significantly between the local minimum runs requires further thought.  State 12 generally has a higher quasi probability than state 8 which may make sense as there are probably more descent paths leading to events 3 and 4 happening on Sunday than only event 4 happening on Sunday.\n",
    "\n",
    "Initially, the initial parameters were random numbers from (0, 1).  It was observed that the mirror of the (8, 12) superposition which would be a superposition of 19 and 23 was occurring much less frequently which warranted further investigation.  To be distributed across the entire state space, the initial parameter range was modified to (-pi, pi) which appeared to fix the the frequency imbalance between mirror superpostion states.  To add further randomness, one could also randomize the initial starting state for each run.\n",
    "    \n",
    "# Modification of the Hamiltonian to Obtain more Global Minimum Runs\n",
    "\n",
    "Let's think about the original problem to gain some insight to see how we can modify the Hamiltonian to achieve better results.  Looking at the objective function before the variable transformation from x's to z's, notice that event 3 and event 4 are in the highest demand by the attendees.  So we would want to place these events on separate days.  Since there is one attendee that wants to go to both events, we can simply increase the coefficient of this term in the Hamiltonian to reduce the chances that events 3 and 4 occur on the same day.   We are effectively adding a penalty to the objective function to account for the added constraint.  This technique is similar to using Lagrangian coefficients in a traditional constrained optimization problem.  The table below shows that we do get our desired outcome as we increase the coefficient. \n",
    "\n",
    "| Coefficent | % at local minimums (approx) |\n",
    "| ------ | ------ |\n",
    "| 0.5 |      wide range 10-30 |\n",
    "| 0.6 |      10 |\n",
    "| 0.7 |      5  |\n",
    "| 0.8 |      1  |\n",
    "\n",
    "# Future areas of exploration\n",
    "\n",
    "- Implement with RunTime to understand its benefits.\n",
    "\n",
    "- Use other Qiskit optimizers with the quantum circuit to improve the likelihood of attaining the global minimum or balancing out outcomes for local minimum runs.  Perhaps experimenting with the number of iterations or larger step sizes will help.\n",
    "\n",
    "- Occasionally, a run gets finds a minimum reasonably greater than -8 and reasonably less than -7.  Investigate how this occurs and what it may mean.\n",
    "\n",
    "- Gain further insight by creating variations to the original problem such as 1) introducing more attendees or events, or 2) adding constraints to certain events or attendees and adjusting the Hamiltonian appropriately.\n",
    "\n",
    "- Use other quantum algorithms to improve the likelihood of finding the global minimum.  Other methods could include quantum annealing or QAOA.  While it is difficult to perform quantum annealing within Qiskit, we can perform a QAOA implementation in hopes of improving the likelihood of achieving the global minimum.\n",
    "\n",
    "- Run the circuit on an IBM Quantum Computer to understand the issues that arise from a noisy channel."
   ]
  },
  {
   "cell_type": "code",
   "execution_count": null,
   "id": "3e630685-a2c8-4f5c-b769-38960c9b9c6a",
   "metadata": {},
   "outputs": [],
   "source": []
  }
 ],
 "metadata": {
  "kernelspec": {
   "display_name": "Python 3 (ipykernel)",
   "language": "python",
   "name": "python3"
  },
  "language_info": {
   "codemirror_mode": {
    "name": "ipython",
    "version": 3
   },
   "file_extension": ".py",
   "mimetype": "text/x-python",
   "name": "python",
   "nbconvert_exporter": "python",
   "pygments_lexer": "ipython3",
   "version": "3.10.8"
  },
  "widgets": {
   "application/vnd.jupyter.widget-state+json": {
    "state": {
     "074a676e0e8d47aabd8ea4f1ba933b7a": {
      "model_module": "@jupyter-widgets/base",
      "model_module_version": "2.0.0",
      "model_name": "LayoutModel",
      "state": {
       "width": "95px"
      }
     },
     "206cc4a01832443d88ba95e4bfdb25d7": {
      "model_module": "@jupyter-widgets/controls",
      "model_module_version": "2.0.0",
      "model_name": "GridBoxModel",
      "state": {
       "children": [
        "IPY_MODEL_647518bf68fb445b861d653a2c5306a3"
       ],
       "layout": "IPY_MODEL_c81e3a17a9c24884a08a626e6a576944"
      }
     },
     "307c1b968a8340e085dc86f68a296e8f": {
      "model_module": "@jupyter-widgets/base",
      "model_module_version": "2.0.0",
      "model_name": "LayoutModel",
      "state": {
       "width": "190px"
      }
     },
     "3387b5bfb44141929087ff0a0c2db391": {
      "model_module": "@jupyter-widgets/controls",
      "model_module_version": "2.0.0",
      "model_name": "HTMLStyleModel",
      "state": {
       "description_width": "",
       "font_size": null,
       "text_color": null
      }
     },
     "36da074297ab40c2b8a348a44f519e50": {
      "model_module": "@jupyter-widgets/controls",
      "model_module_version": "2.0.0",
      "model_name": "HTMLStyleModel",
      "state": {
       "description_width": "",
       "font_size": null,
       "text_color": null
      }
     },
     "382187884f17468c8122bcafaa0db7c7": {
      "model_module": "@jupyter-widgets/controls",
      "model_module_version": "2.0.0",
      "model_name": "HTMLStyleModel",
      "state": {
       "description_width": "",
       "font_size": null,
       "text_color": null
      }
     },
     "468ea7b533a64ef2ac516db4aa825c78": {
      "model_module": "@jupyter-widgets/base",
      "model_module_version": "2.0.0",
      "model_name": "LayoutModel",
      "state": {
       "grid_area": "right",
       "padding": "0px 0px 0px 0px",
       "width": "70px"
      }
     },
     "517d6806dffd48708b326dd0cbaf0fd9": {
      "model_module": "@jupyter-widgets/controls",
      "model_module_version": "2.0.0",
      "model_name": "ButtonStyleModel",
      "state": {
       "font_family": null,
       "font_size": null,
       "font_style": null,
       "font_variant": null,
       "font_weight": null,
       "text_color": null,
       "text_decoration": null
      }
     },
     "63ac3eabbb7e407b9f816f6e1c258d9f": {
      "model_module": "@jupyter-widgets/base",
      "model_module_version": "2.0.0",
      "model_name": "LayoutModel",
      "state": {
       "width": "145px"
      }
     },
     "647518bf68fb445b861d653a2c5306a3": {
      "model_module": "@jupyter-widgets/controls",
      "model_module_version": "2.0.0",
      "model_name": "ButtonModel",
      "state": {
       "button_style": "primary",
       "description": "Clear",
       "layout": "IPY_MODEL_468ea7b533a64ef2ac516db4aa825c78",
       "style": "IPY_MODEL_517d6806dffd48708b326dd0cbaf0fd9",
       "tooltip": null
      }
     },
     "69cfd914d22e4f10b268b3143a2cb036": {
      "model_module": "@jupyter-widgets/base",
      "model_module_version": "2.0.0",
      "model_name": "LayoutModel",
      "state": {
       "width": "70px"
      }
     },
     "7765aad4a059468cab7f9d9bce4349df": {
      "model_module": "@jupyter-widgets/controls",
      "model_module_version": "2.0.0",
      "model_name": "HTMLStyleModel",
      "state": {
       "description_width": "",
       "font_size": null,
       "text_color": null
      }
     },
     "79f1d4bd3593471cadd933e279e0e8c2": {
      "model_module": "@jupyter-widgets/base",
      "model_module_version": "2.0.0",
      "model_name": "LayoutModel",
      "state": {
       "margin": "0px 0px 0px 37px",
       "width": "600px"
      }
     },
     "7a556e5eb1cd491f9b6a4823d6805e69": {
      "model_module": "@jupyter-widgets/controls",
      "model_module_version": "2.0.0",
      "model_name": "HTMLModel",
      "state": {
       "layout": "IPY_MODEL_63ac3eabbb7e407b9f816f6e1c258d9f",
       "style": "IPY_MODEL_36da074297ab40c2b8a348a44f519e50",
       "value": "<h5>Backend</h5>"
      }
     },
     "82bf3d1f390c4c168642ee7a4033d3fd": {
      "model_module": "@jupyter-widgets/controls",
      "model_module_version": "2.0.0",
      "model_name": "HTMLStyleModel",
      "state": {
       "description_width": "",
       "font_size": null,
       "text_color": null
      }
     },
     "8d42427b3829472eb608d1aa0e421767": {
      "model_module": "@jupyter-widgets/controls",
      "model_module_version": "2.0.0",
      "model_name": "HTMLModel",
      "state": {
       "layout": "IPY_MODEL_69cfd914d22e4f10b268b3143a2cb036",
       "style": "IPY_MODEL_a2e2bd92f251494ba5cae72230fb2b68",
       "value": "<h5>Queue</h5>"
      }
     },
     "8f143498703944708ebb11013b43ffd8": {
      "model_module": "@jupyter-widgets/base",
      "model_module_version": "2.0.0",
      "model_name": "LayoutModel",
      "state": {}
     },
     "9dceebca13ed4ed29169217258e3a4c9": {
      "model_module": "@jupyter-widgets/controls",
      "model_module_version": "2.0.0",
      "model_name": "HTMLModel",
      "state": {
       "layout": "IPY_MODEL_8f143498703944708ebb11013b43ffd8",
       "style": "IPY_MODEL_7765aad4a059468cab7f9d9bce4349df",
       "value": "<h5>Message</h5>"
      }
     },
     "a2e2bd92f251494ba5cae72230fb2b68": {
      "model_module": "@jupyter-widgets/controls",
      "model_module_version": "2.0.0",
      "model_name": "HTMLStyleModel",
      "state": {
       "description_width": "",
       "font_size": null,
       "text_color": null
      }
     },
     "c81e3a17a9c24884a08a626e6a576944": {
      "model_module": "@jupyter-widgets/base",
      "model_module_version": "2.0.0",
      "model_name": "LayoutModel",
      "state": {
       "grid_template_areas": "\n                                       \". . . . right \"\n                                        ",
       "grid_template_columns": "20% 20% 20% 20% 20%",
       "width": "100%"
      }
     },
     "d3ccfbaa29c742a9bd3c8e82eda11029": {
      "model_module": "@jupyter-widgets/controls",
      "model_module_version": "2.0.0",
      "model_name": "HTMLModel",
      "state": {
       "layout": "IPY_MODEL_307c1b968a8340e085dc86f68a296e8f",
       "style": "IPY_MODEL_3387b5bfb44141929087ff0a0c2db391",
       "value": "<h5>Job ID</h5>"
      }
     },
     "d7dfb2a9afd74f09b9e0d248fe32f2f6": {
      "model_module": "@jupyter-widgets/controls",
      "model_module_version": "2.0.0",
      "model_name": "HBoxModel",
      "state": {
       "children": [
        "IPY_MODEL_d3ccfbaa29c742a9bd3c8e82eda11029",
        "IPY_MODEL_7a556e5eb1cd491f9b6a4823d6805e69",
        "IPY_MODEL_d88d066b4fc749719f05fa6ac1109a83",
        "IPY_MODEL_8d42427b3829472eb608d1aa0e421767",
        "IPY_MODEL_9dceebca13ed4ed29169217258e3a4c9"
       ],
       "layout": "IPY_MODEL_79f1d4bd3593471cadd933e279e0e8c2"
      }
     },
     "d88d066b4fc749719f05fa6ac1109a83": {
      "model_module": "@jupyter-widgets/controls",
      "model_module_version": "2.0.0",
      "model_name": "HTMLModel",
      "state": {
       "layout": "IPY_MODEL_074a676e0e8d47aabd8ea4f1ba933b7a",
       "style": "IPY_MODEL_382187884f17468c8122bcafaa0db7c7",
       "value": "<h5>Status</h5>"
      }
     },
     "e136838c0c654882b98327ac7ff53c91": {
      "model_module": "@jupyter-widgets/controls",
      "model_module_version": "2.0.0",
      "model_name": "HTMLModel",
      "state": {
       "layout": "IPY_MODEL_efe189f3dab0446092bd4d7ee1864cdc",
       "style": "IPY_MODEL_82bf3d1f390c4c168642ee7a4033d3fd",
       "value": "<p style='font-family: IBM Plex Sans, Arial, Helvetica, sans-serif; font-size: 20px; font-weight: medium;'>Circuit Properties</p>"
      }
     },
     "efe189f3dab0446092bd4d7ee1864cdc": {
      "model_module": "@jupyter-widgets/base",
      "model_module_version": "2.0.0",
      "model_name": "LayoutModel",
      "state": {
       "margin": "0px 0px 10px 0px"
      }
     }
    },
    "version_major": 2,
    "version_minor": 0
   }
  }
 },
 "nbformat": 4,
 "nbformat_minor": 5
}
